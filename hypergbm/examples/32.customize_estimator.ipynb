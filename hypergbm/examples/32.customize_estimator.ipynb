{
 "cells": [
  {
   "cell_type": "markdown",
   "id": "4ba451d1",
   "metadata": {},
   "source": [
    "## Prepare train_data and test_data"
   ]
  },
  {
   "cell_type": "code",
   "execution_count": 1,
   "id": "e2de9aa1",
   "metadata": {
    "scrolled": true
   },
   "outputs": [
    {
     "name": "stdout",
     "output_type": "stream",
     "text": [
      "07-22 13:58:12 I hypernets.u._fsutils.py 300 - use /home/wumy/tmp/workdir as working directory.\n"
     ]
    }
   ],
   "source": [
    "import pandas as pd\n",
    "from sklearn import datasets\n",
    "from sklearn.model_selection import train_test_split\n",
    "from hypergbm import make_experiment\n",
    "from hypernets.tabular.metrics import metric_to_scoring\n",
    "from sklearn.metrics import get_scorer"
   ]
  },
  {
   "cell_type": "code",
   "execution_count": 2,
   "id": "b8c3b8ab",
   "metadata": {},
   "outputs": [],
   "source": [
    "X,y = datasets.load_breast_cancer(as_frame=True,return_X_y=True)\n",
    "X_train,X_test,y_train,y_test = train_test_split(X,y,train_size=0.7,random_state=335)\n",
    "train_data = pd.concat([X_train,y_train],axis=1)"
   ]
  },
  {
   "cell_type": "markdown",
   "id": "3ae04315",
   "metadata": {},
   "source": [
    "# Add your own estimator(svm)"
   ]
  },
  {
   "cell_type": "code",
   "execution_count": 3,
   "id": "0c734c3b",
   "metadata": {},
   "outputs": [],
   "source": [
    "from hypergbm.pipeline import DataFrameMapper\n",
    "from hypergbm.sklearn.sklearn_ops import numeric_pipeline_simple,categorical_pipeline_simple\n",
    "from hypernets.core.ops import ModuleChoice, HyperInput\n",
    "from hypernets.core.search_space import Choice, Int,Real\n",
    "from hypernets.core.search_space import HyperSpace\n",
    "from hypernets.tabular.column_selector import column_object\n",
    "from hypergbm.estimators import HyperEstimator\n",
    "from hypernets.utils import const\n",
    "from sklearn import svm"
   ]
  },
  {
   "cell_type": "markdown",
   "id": "c8448d26",
   "metadata": {},
   "source": [
    "## Define SVMEstimator"
   ]
  },
  {
   "cell_type": "code",
   "execution_count": 4,
   "id": "e55a7a14",
   "metadata": {},
   "outputs": [],
   "source": [
    "class SVMEstimator(HyperEstimator):\n",
    "    def __init__(self, fit_kwargs, C=1.0, kernel='rbf', gamma='auto',degree=3,random_state=666,probability=True,\n",
    "                 decision_function_shape=None,space=None, name=None, **kwargs):\n",
    "        if C is not None:\n",
    "            kwargs['C'] = C\n",
    "        if kernel is not None:\n",
    "            kwargs['kernel'] = kernel\n",
    "        if gamma is not None:\n",
    "            kwargs['gamma'] = gamma\n",
    "        if degree is not None:\n",
    "            kwargs['degree'] = degree\n",
    "        if random_state is not None:\n",
    "            kwargs['random_state'] = random_state\n",
    "        if decision_function_shape is not None:\n",
    "            kwargs['decision_function_shape'] = decision_function_shape\n",
    "        kwargs['probability'] = probability\n",
    "        HyperEstimator.__init__(self, fit_kwargs, space, name, **kwargs)\n",
    "    def _build_estimator(self, task, kwargs):\n",
    "        if task == const.TASK_REGRESSION:\n",
    "            hsvm = SVMRegressorWrapper(**kwargs)\n",
    "        else:\n",
    "            hsvm = SVMClassifierWrapper(**kwargs)\n",
    "        hsvm.__dict__['task'] = task\n",
    "        return hsvm\n",
    "class SVMClassifierWrapper(svm.SVC):\n",
    "    def fit(self, X, y=None, **kwargs):\n",
    "        return super().fit(X, y)\n",
    "class SVMRegressorWrapper(svm.SVC):\n",
    "    def fit(self, X, y=None, **kwargs):\n",
    "        return super().fit(X, y)"
   ]
  },
  {
   "cell_type": "markdown",
   "id": "f820163b",
   "metadata": {},
   "source": [
    "## Define search_space"
   ]
  },
  {
   "cell_type": "code",
   "execution_count": 5,
   "id": "aab1030a",
   "metadata": {},
   "outputs": [],
   "source": [
    "def search_space():\n",
    "    space = HyperSpace()\n",
    "    with space.as_default():\n",
    "        input = HyperInput(name='input1')\n",
    "        num_pipeline = numeric_pipeline_simple()(input)\n",
    "        cat_pipeline = categorical_pipeline_simple()(input)\n",
    "        union_pipeline = DataFrameMapper(default=False, input_df=True, df_out=True,\n",
    "                                         df_out_dtype_transforms=[(column_object, 'int')])([num_pipeline, cat_pipeline])\n",
    "        svm_init_kwargs = {\n",
    "            'C': Real(0.1,5,0.1),\n",
    "            'kernel':Choice(['rbf','poly','sigmoid']),\n",
    "            'degree':Int(1,5),\n",
    "            'gamma':Real(0.0001,5,0.0002)\n",
    "        }\n",
    "        svm_est =SVMEstimator(fit_kwargs={},**svm_init_kwargs)\n",
    "        ModuleChoice([svm_est], name='estimator_options')(union_pipeline)\n",
    "        space.set_inputs(input)\n",
    "    return space"
   ]
  },
  {
   "cell_type": "code",
   "execution_count": 6,
   "id": "029cecbc",
   "metadata": {},
   "outputs": [
    {
     "data": {
      "text/markdown": [
       "### Input Data"
      ]
     },
     "metadata": {},
     "output_type": "display_data"
    },
    {
     "data": {
      "text/html": [
       "<div>\n",
       "<style scoped>\n",
       "    .dataframe tbody tr th:only-of-type {\n",
       "        vertical-align: middle;\n",
       "    }\n",
       "\n",
       "    .dataframe tbody tr th {\n",
       "        vertical-align: top;\n",
       "    }\n",
       "\n",
       "    .dataframe thead th {\n",
       "        text-align: right;\n",
       "    }\n",
       "</style>\n",
       "<table border=\"1\" class=\"dataframe\">\n",
       "  <thead>\n",
       "    <tr style=\"text-align: right;\">\n",
       "      <th></th>\n",
       "      <th>X_train.shape</th>\n",
       "      <th>y_train.shape</th>\n",
       "      <th>X_eval.shape</th>\n",
       "      <th>y_eval.shape</th>\n",
       "      <th>X_test.shape</th>\n",
       "      <th>Task</th>\n",
       "    </tr>\n",
       "  </thead>\n",
       "  <tbody>\n",
       "    <tr>\n",
       "      <th>0</th>\n",
       "      <td>(398, 30)</td>\n",
       "      <td>(398,)</td>\n",
       "      <td>None</td>\n",
       "      <td>None</td>\n",
       "      <td>(171, 30)</td>\n",
       "      <td>binary(2)</td>\n",
       "    </tr>\n",
       "  </tbody>\n",
       "</table>\n",
       "</div>"
      ],
      "text/plain": [
       "  X_train.shape y_train.shape X_eval.shape y_eval.shape X_test.shape  \\\n",
       "0     (398, 30)        (398,)         None         None    (171, 30)   \n",
       "\n",
       "        Task  \n",
       "0  binary(2)  "
      ]
     },
     "metadata": {},
     "output_type": "display_data"
    },
    {
     "data": {
      "image/png": "[encoded data removed]",
      "text/plain": [
       "<Figure size 640x320 with 1 Axes>"
      ]
     },
     "metadata": {
      "needs_background": "light"
     },
     "output_type": "display_data"
    },
    {
     "data": {
      "text/markdown": [
       "## Data Clean"
      ]
     },
     "metadata": {},
     "output_type": "display_data"
    },
    {
     "data": {
      "text/markdown": [
       "### Initliazed parameters"
      ]
     },
     "metadata": {},
     "output_type": "display_data"
    },
    {
     "data": {
      "text/html": [
       "<div>\n",
       "<style scoped>\n",
       "    .dataframe tbody tr th:only-of-type {\n",
       "        vertical-align: middle;\n",
       "    }\n",
       "\n",
       "    .dataframe tbody tr th {\n",
       "        vertical-align: top;\n",
       "    }\n",
       "\n",
       "    .dataframe thead th {\n",
       "        text-align: right;\n",
       "    }\n",
       "</style>\n",
       "<table border=\"1\" class=\"dataframe\">\n",
       "  <thead>\n",
       "    <tr style=\"text-align: right;\">\n",
       "      <th></th>\n",
       "      <th>key</th>\n",
       "      <th>value</th>\n",
       "    </tr>\n",
       "  </thead>\n",
       "  <tbody>\n",
       "    <tr>\n",
       "      <th>0</th>\n",
       "      <td>cv</td>\n",
       "      <td>True</td>\n",
       "    </tr>\n",
       "    <tr>\n",
       "      <th>1</th>\n",
       "      <td>data_cleaner_args</td>\n",
       "      <td>{'nan_chars': None, 'correct_object_dtype': Tr...</td>\n",
       "    </tr>\n",
       "    <tr>\n",
       "      <th>2</th>\n",
       "      <td>name</td>\n",
       "      <td>data_clean</td>\n",
       "    </tr>\n",
       "    <tr>\n",
       "      <th>3</th>\n",
       "      <td>random_state</td>\n",
       "      <td>9527</td>\n",
       "    </tr>\n",
       "    <tr>\n",
       "      <th>4</th>\n",
       "      <td>train_test_split_strategy</td>\n",
       "      <td>None</td>\n",
       "    </tr>\n",
       "  </tbody>\n",
       "</table>\n",
       "</div>"
      ],
      "text/plain": [
       "                         key  \\\n",
       "0                         cv   \n",
       "1          data_cleaner_args   \n",
       "2                       name   \n",
       "3               random_state   \n",
       "4  train_test_split_strategy   \n",
       "\n",
       "                                               value  \n",
       "0                                               True  \n",
       "1  {'nan_chars': None, 'correct_object_dtype': Tr...  \n",
       "2                                         data_clean  \n",
       "3                                               9527  \n",
       "4                                               None  "
      ]
     },
     "metadata": {},
     "output_type": "display_data"
    },
    {
     "data": {
      "text/markdown": [
       "### Fitted parameters"
      ]
     },
     "metadata": {},
     "output_type": "display_data"
    },
    {
     "data": {
      "text/html": [
       "<div>\n",
       "<style scoped>\n",
       "    .dataframe tbody tr th:only-of-type {\n",
       "        vertical-align: middle;\n",
       "    }\n",
       "\n",
       "    .dataframe tbody tr th {\n",
       "        vertical-align: top;\n",
       "    }\n",
       "\n",
       "    .dataframe thead th {\n",
       "        text-align: right;\n",
       "    }\n",
       "</style>\n",
       "<table border=\"1\" class=\"dataframe\">\n",
       "  <thead>\n",
       "    <tr style=\"text-align: right;\">\n",
       "      <th></th>\n",
       "      <th>key</th>\n",
       "      <th>value</th>\n",
       "    </tr>\n",
       "  </thead>\n",
       "  <tbody>\n",
       "    <tr>\n",
       "      <th>0</th>\n",
       "      <td>input_features</td>\n",
       "      <td>[mean radius, mean texture, mean perimeter, me...</td>\n",
       "    </tr>\n",
       "    <tr>\n",
       "      <th>1</th>\n",
       "      <td>selected_features</td>\n",
       "      <td>[mean radius, mean texture, mean perimeter, me...</td>\n",
       "    </tr>\n",
       "    <tr>\n",
       "      <th>2</th>\n",
       "      <td>unselected_features</td>\n",
       "      <td>[]</td>\n",
       "    </tr>\n",
       "    <tr>\n",
       "      <th>3</th>\n",
       "      <td>X_train.shape</td>\n",
       "      <td>(398, 30)</td>\n",
       "    </tr>\n",
       "    <tr>\n",
       "      <th>4</th>\n",
       "      <td>y_train.shape</td>\n",
       "      <td>(398,)</td>\n",
       "    </tr>\n",
       "    <tr>\n",
       "      <th>5</th>\n",
       "      <td>X_eval.shape</td>\n",
       "      <td>None</td>\n",
       "    </tr>\n",
       "    <tr>\n",
       "      <th>6</th>\n",
       "      <td>y_eval.shape</td>\n",
       "      <td>None</td>\n",
       "    </tr>\n",
       "    <tr>\n",
       "      <th>7</th>\n",
       "      <td>X_test.shape</td>\n",
       "      <td>(171, 30)</td>\n",
       "    </tr>\n",
       "    <tr>\n",
       "      <th>8</th>\n",
       "      <td>unselected_reason</td>\n",
       "      <td>{}</td>\n",
       "    </tr>\n",
       "    <tr>\n",
       "      <th>9</th>\n",
       "      <td>kept/dropped feature count</td>\n",
       "      <td>30/0</td>\n",
       "    </tr>\n",
       "  </tbody>\n",
       "</table>\n",
       "</div>"
      ],
      "text/plain": [
       "                          key  \\\n",
       "0              input_features   \n",
       "1           selected_features   \n",
       "2         unselected_features   \n",
       "3               X_train.shape   \n",
       "4               y_train.shape   \n",
       "5                X_eval.shape   \n",
       "6                y_eval.shape   \n",
       "7                X_test.shape   \n",
       "8           unselected_reason   \n",
       "9  kept/dropped feature count   \n",
       "\n",
       "                                               value  \n",
       "0  [mean radius, mean texture, mean perimeter, me...  \n",
       "1  [mean radius, mean texture, mean perimeter, me...  \n",
       "2                                                 []  \n",
       "3                                          (398, 30)  \n",
       "4                                             (398,)  \n",
       "5                                               None  \n",
       "6                                               None  \n",
       "7                                          (171, 30)  \n",
       "8                                                 {}  \n",
       "9                                               30/0  "
      ]
     },
     "metadata": {},
     "output_type": "display_data"
    },
    {
     "data": {
      "text/markdown": [
       "## Drift Detection"
      ]
     },
     "metadata": {},
     "output_type": "display_data"
    },
    {
     "data": {
      "text/markdown": [
       "### Initliazed parameters"
      ]
     },
     "metadata": {},
     "output_type": "display_data"
    },
    {
     "data": {
      "text/html": [
       "<div>\n",
       "<style scoped>\n",
       "    .dataframe tbody tr th:only-of-type {\n",
       "        vertical-align: middle;\n",
       "    }\n",
       "\n",
       "    .dataframe tbody tr th {\n",
       "        vertical-align: top;\n",
       "    }\n",
       "\n",
       "    .dataframe thead th {\n",
       "        text-align: right;\n",
       "    }\n",
       "</style>\n",
       "<table border=\"1\" class=\"dataframe\">\n",
       "  <thead>\n",
       "    <tr style=\"text-align: right;\">\n",
       "      <th></th>\n",
       "      <th>key</th>\n",
       "      <th>value</th>\n",
       "    </tr>\n",
       "  </thead>\n",
       "  <tbody>\n",
       "    <tr>\n",
       "      <th>0</th>\n",
       "      <td>min_features</td>\n",
       "      <td>10</td>\n",
       "    </tr>\n",
       "    <tr>\n",
       "      <th>1</th>\n",
       "      <td>name</td>\n",
       "      <td>drift_detection</td>\n",
       "    </tr>\n",
       "    <tr>\n",
       "      <th>2</th>\n",
       "      <td>num_folds</td>\n",
       "      <td>5</td>\n",
       "    </tr>\n",
       "    <tr>\n",
       "      <th>3</th>\n",
       "      <td>remove_shift_variable</td>\n",
       "      <td>True</td>\n",
       "    </tr>\n",
       "    <tr>\n",
       "      <th>4</th>\n",
       "      <td>remove_size</td>\n",
       "      <td>0.1</td>\n",
       "    </tr>\n",
       "    <tr>\n",
       "      <th>5</th>\n",
       "      <td>threshold</td>\n",
       "      <td>0.7</td>\n",
       "    </tr>\n",
       "    <tr>\n",
       "      <th>6</th>\n",
       "      <td>variable_shift_threshold</td>\n",
       "      <td>0.7</td>\n",
       "    </tr>\n",
       "  </tbody>\n",
       "</table>\n",
       "</div>"
      ],
      "text/plain": [
       "                        key            value\n",
       "0              min_features               10\n",
       "1                      name  drift_detection\n",
       "2                 num_folds                5\n",
       "3     remove_shift_variable             True\n",
       "4               remove_size              0.1\n",
       "5                 threshold              0.7\n",
       "6  variable_shift_threshold              0.7"
      ]
     },
     "metadata": {},
     "output_type": "display_data"
    },
    {
     "data": {
      "text/markdown": [
       "### Fitted parameters"
      ]
     },
     "metadata": {},
     "output_type": "display_data"
    },
    {
     "data": {
      "text/html": [
       "<div>\n",
       "<style scoped>\n",
       "    .dataframe tbody tr th:only-of-type {\n",
       "        vertical-align: middle;\n",
       "    }\n",
       "\n",
       "    .dataframe tbody tr th {\n",
       "        vertical-align: top;\n",
       "    }\n",
       "\n",
       "    .dataframe thead th {\n",
       "        text-align: right;\n",
       "    }\n",
       "</style>\n",
       "<table border=\"1\" class=\"dataframe\">\n",
       "  <thead>\n",
       "    <tr style=\"text-align: right;\">\n",
       "      <th></th>\n",
       "      <th>key</th>\n",
       "      <th>value</th>\n",
       "    </tr>\n",
       "  </thead>\n",
       "  <tbody>\n",
       "    <tr>\n",
       "      <th>0</th>\n",
       "      <td>input_features</td>\n",
       "      <td>[mean radius, mean texture, mean perimeter, me...</td>\n",
       "    </tr>\n",
       "    <tr>\n",
       "      <th>1</th>\n",
       "      <td>selected_features</td>\n",
       "      <td>None</td>\n",
       "    </tr>\n",
       "    <tr>\n",
       "      <th>2</th>\n",
       "      <td>unselected_features</td>\n",
       "      <td>None</td>\n",
       "    </tr>\n",
       "    <tr>\n",
       "      <th>3</th>\n",
       "      <td>history</td>\n",
       "      <td>[{'auc': 0.5483613445378152, 'n_features': 30,...</td>\n",
       "    </tr>\n",
       "    <tr>\n",
       "      <th>4</th>\n",
       "      <td>scores</td>\n",
       "      <td>{'mean radius': 0.6553921568627451, 'mean text...</td>\n",
       "    </tr>\n",
       "  </tbody>\n",
       "</table>\n",
       "</div>"
      ],
      "text/plain": [
       "                   key                                              value\n",
       "0       input_features  [mean radius, mean texture, mean perimeter, me...\n",
       "1    selected_features                                               None\n",
       "2  unselected_features                                               None\n",
       "3              history  [{'auc': 0.5483613445378152, 'n_features': 30,...\n",
       "4               scores  {'mean radius': 0.6553921568627451, 'mean text..."
      ]
     },
     "metadata": {},
     "output_type": "display_data"
    },
    {
     "data": {
      "text/markdown": [
       "## Space Searching"
      ]
     },
     "metadata": {},
     "output_type": "display_data"
    },
    {
     "data": {
      "text/markdown": [
       "### Initliazed parameters"
      ]
     },
     "metadata": {},
     "output_type": "display_data"
    },
    {
     "data": {
      "text/html": [
       "<div>\n",
       "<style scoped>\n",
       "    .dataframe tbody tr th:only-of-type {\n",
       "        vertical-align: middle;\n",
       "    }\n",
       "\n",
       "    .dataframe tbody tr th {\n",
       "        vertical-align: top;\n",
       "    }\n",
       "\n",
       "    .dataframe thead th {\n",
       "        text-align: right;\n",
       "    }\n",
       "</style>\n",
       "<table border=\"1\" class=\"dataframe\">\n",
       "  <thead>\n",
       "    <tr style=\"text-align: right;\">\n",
       "      <th></th>\n",
       "      <th>key</th>\n",
       "      <th>value</th>\n",
       "    </tr>\n",
       "  </thead>\n",
       "  <tbody>\n",
       "    <tr>\n",
       "      <th>0</th>\n",
       "      <td>cv</td>\n",
       "      <td>True</td>\n",
       "    </tr>\n",
       "    <tr>\n",
       "      <th>1</th>\n",
       "      <td>name</td>\n",
       "      <td>space_searching</td>\n",
       "    </tr>\n",
       "    <tr>\n",
       "      <th>2</th>\n",
       "      <td>num_folds</td>\n",
       "      <td>3</td>\n",
       "    </tr>\n",
       "  </tbody>\n",
       "</table>\n",
       "</div>"
      ],
      "text/plain": [
       "         key            value\n",
       "0         cv             True\n",
       "1       name  space_searching\n",
       "2  num_folds                3"
      ]
     },
     "metadata": {},
     "output_type": "display_data"
    },
    {
     "data": {
      "text/markdown": [
       "#### Trials Summary:"
      ]
     },
     "metadata": {},
     "output_type": "display_data"
    },
    {
     "data": {
      "text/html": [
       "<div>\n",
       "<style scoped>\n",
       "    .dataframe tbody tr th:only-of-type {\n",
       "        vertical-align: middle;\n",
       "    }\n",
       "\n",
       "    .dataframe tbody tr th {\n",
       "        vertical-align: top;\n",
       "    }\n",
       "\n",
       "    .dataframe thead th {\n",
       "        text-align: right;\n",
       "    }\n",
       "</style>\n",
       "<table border=\"1\" class=\"dataframe\">\n",
       "  <thead>\n",
       "    <tr style=\"text-align: right;\">\n",
       "      <th></th>\n",
       "      <th>Trial No.</th>\n",
       "      <th>Previous reward</th>\n",
       "      <th>Best trial</th>\n",
       "      <th>Best reward</th>\n",
       "      <th>Total elapsed</th>\n",
       "      <th>Valid trials</th>\n",
       "      <th>Max trials</th>\n",
       "    </tr>\n",
       "  </thead>\n",
       "  <tbody>\n",
       "    <tr>\n",
       "      <th>0</th>\n",
       "      <td>10</td>\n",
       "      <td>0.964824</td>\n",
       "      <td>3</td>\n",
       "      <td>0.967337</td>\n",
       "      <td>5.312066</td>\n",
       "      <td>10</td>\n",
       "      <td>10</td>\n",
       "    </tr>\n",
       "  </tbody>\n",
       "</table>\n",
       "</div>"
      ],
      "text/plain": [
       "   Trial No.  Previous reward  Best trial  Best reward  Total elapsed  \\\n",
       "0         10         0.964824           3     0.967337       5.312066   \n",
       "\n",
       "   Valid trials  Max trials  \n",
       "0            10          10  "
      ]
     },
     "metadata": {},
     "output_type": "display_data"
    },
    {
     "data": {
      "text/markdown": [
       "#### Top trials:"
      ]
     },
     "metadata": {},
     "output_type": "display_data"
    },
    {
     "data": {
      "text/html": [
       "<div>\n",
       "<style scoped>\n",
       "    .dataframe tbody tr th:only-of-type {\n",
       "        vertical-align: middle;\n",
       "    }\n",
       "\n",
       "    .dataframe tbody tr th {\n",
       "        vertical-align: top;\n",
       "    }\n",
       "\n",
       "    .dataframe thead th {\n",
       "        text-align: right;\n",
       "    }\n",
       "</style>\n",
       "<table border=\"1\" class=\"dataframe\">\n",
       "  <thead>\n",
       "    <tr style=\"text-align: right;\">\n",
       "      <th></th>\n",
       "      <th>Trial No.</th>\n",
       "      <th>Reward</th>\n",
       "      <th>Elapsed</th>\n",
       "      <th>Space Vector</th>\n",
       "    </tr>\n",
       "  </thead>\n",
       "  <tbody>\n",
       "    <tr>\n",
       "      <th>0</th>\n",
       "      <td>3</td>\n",
       "      <td>0.967337</td>\n",
       "      <td>0.081722</td>\n",
       "      <td>[3.67, 1, 1.2501, 1]</td>\n",
       "    </tr>\n",
       "    <tr>\n",
       "      <th>1</th>\n",
       "      <td>7</td>\n",
       "      <td>0.964824</td>\n",
       "      <td>0.088305</td>\n",
       "      <td>[4.55, 1, 2.8901, 1]</td>\n",
       "    </tr>\n",
       "    <tr>\n",
       "      <th>2</th>\n",
       "      <td>10</td>\n",
       "      <td>0.964824</td>\n",
       "      <td>0.088576</td>\n",
       "      <td>[3.46, 1, 3.6701, 1]</td>\n",
       "    </tr>\n",
       "    <tr>\n",
       "      <th>3</th>\n",
       "      <td>9</td>\n",
       "      <td>0.907035</td>\n",
       "      <td>0.084448</td>\n",
       "      <td>[2.98, 2, 0.7201, 1]</td>\n",
       "    </tr>\n",
       "    <tr>\n",
       "      <th>4</th>\n",
       "      <td>8</td>\n",
       "      <td>0.891960</td>\n",
       "      <td>0.192408</td>\n",
       "      <td>[2.34, 2, 2.7201, 1]</td>\n",
       "    </tr>\n",
       "  </tbody>\n",
       "</table>\n",
       "</div>"
      ],
      "text/plain": [
       "   Trial No.    Reward   Elapsed          Space Vector\n",
       "0          3  0.967337  0.081722  [3.67, 1, 1.2501, 1]\n",
       "1          7  0.964824  0.088305  [4.55, 1, 2.8901, 1]\n",
       "2         10  0.964824  0.088576  [3.46, 1, 3.6701, 1]\n",
       "3          9  0.907035  0.084448  [2.98, 2, 0.7201, 1]\n",
       "4          8  0.891960  0.192408  [2.34, 2, 2.7201, 1]"
      ]
     },
     "metadata": {},
     "output_type": "display_data"
    },
    {
     "name": "stderr",
     "output_type": "stream",
     "text": [
      "                                             \r"
     ]
    },
    {
     "data": {
      "text/markdown": [
       "#### Best Trial:"
      ]
     },
     "metadata": {},
     "output_type": "display_data"
    },
    {
     "data": {
      "text/html": [
       "<table border=\"1\" class=\"dataframe\">\n",
       "<thead>\n",
       "<tr style=\"text-align: right;\">\n",
       "  <th>key</th>\n",
       "  <th>value</th>\n",
       "</tr>\n",
       "</thead>\n",
       "<tbody><tr>\n",
       "  <td>signature</td>\n",
       "  <td>872d4cb1a83eb49fe5b334c71b9ae21a</td>\n",
       "</tr>\n",
       "<tr>\n",
       "  <td>vectors</td>\n",
       "  <td>[3.67, 1, 1.2501, 1]</td>\n",
       "</tr><tr>\n",
       "  <td>0-Module_SVMEstimator_1.C</td>\n",
       "  <td>3.67</td>\n",
       "</tr>\n",
       "<tr><tr>\n",
       "  <td>1-Module_SVMEstimator_1.kernel</td>\n",
       "  <td>poly</td>\n",
       "</tr>\n",
       "<tr><tr>\n",
       "  <td>2-Module_SVMEstimator_1.gamma</td>\n",
       "  <td>1.2501</td>\n",
       "</tr>\n",
       "<tr><tr>\n",
       "  <td>3-Module_SVMEstimator_1.degree</td>\n",
       "  <td>1</td>\n",
       "</tr>\n",
       "<tr>  </tbody>\n",
       "</table>\n",
       "</div>"
      ],
      "text/plain": [
       "DAG_HyperSpace_1"
      ]
     },
     "metadata": {},
     "output_type": "display_data"
    },
    {
     "name": "stderr",
     "output_type": "stream",
     "text": [
      "                                             \r"
     ]
    },
    {
     "data": {
      "text/markdown": [
       "### Fitted parameters"
      ]
     },
     "metadata": {},
     "output_type": "display_data"
    },
    {
     "data": {
      "text/html": [
       "<div>\n",
       "<style scoped>\n",
       "    .dataframe tbody tr th:only-of-type {\n",
       "        vertical-align: middle;\n",
       "    }\n",
       "\n",
       "    .dataframe tbody tr th {\n",
       "        vertical-align: top;\n",
       "    }\n",
       "\n",
       "    .dataframe thead th {\n",
       "        text-align: right;\n",
       "    }\n",
       "</style>\n",
       "<table border=\"1\" class=\"dataframe\">\n",
       "  <thead>\n",
       "    <tr style=\"text-align: right;\">\n",
       "      <th></th>\n",
       "      <th>key</th>\n",
       "      <th>value</th>\n",
       "    </tr>\n",
       "  </thead>\n",
       "  <tbody>\n",
       "    <tr>\n",
       "      <th>0</th>\n",
       "      <td>input_features</td>\n",
       "      <td>[mean radius, mean texture, mean perimeter, me...</td>\n",
       "    </tr>\n",
       "    <tr>\n",
       "      <th>1</th>\n",
       "      <td>best_reward</td>\n",
       "      <td>0.967337</td>\n",
       "    </tr>\n",
       "    <tr>\n",
       "      <th>2</th>\n",
       "      <td>history</td>\n",
       "      <td>&lt;hypernets.core.trial.TrialHistory object at 0...</td>\n",
       "    </tr>\n",
       "  </tbody>\n",
       "</table>\n",
       "</div>"
      ],
      "text/plain": [
       "              key                                              value\n",
       "0  input_features  [mean radius, mean texture, mean perimeter, me...\n",
       "1     best_reward                                           0.967337\n",
       "2         history  <hypernets.core.trial.TrialHistory object at 0..."
      ]
     },
     "metadata": {},
     "output_type": "display_data"
    },
    {
     "data": {
      "text/markdown": [
       "## Final Ensemble"
      ]
     },
     "metadata": {},
     "output_type": "display_data"
    },
    {
     "data": {
      "text/markdown": [
       "### Initliazed parameters"
      ]
     },
     "metadata": {},
     "output_type": "display_data"
    },
    {
     "data": {
      "text/html": [
       "<div>\n",
       "<style scoped>\n",
       "    .dataframe tbody tr th:only-of-type {\n",
       "        vertical-align: middle;\n",
       "    }\n",
       "\n",
       "    .dataframe tbody tr th {\n",
       "        vertical-align: top;\n",
       "    }\n",
       "\n",
       "    .dataframe thead th {\n",
       "        text-align: right;\n",
       "    }\n",
       "</style>\n",
       "<table border=\"1\" class=\"dataframe\">\n",
       "  <thead>\n",
       "    <tr style=\"text-align: right;\">\n",
       "      <th></th>\n",
       "      <th>key</th>\n",
       "      <th>value</th>\n",
       "    </tr>\n",
       "  </thead>\n",
       "  <tbody>\n",
       "    <tr>\n",
       "      <th>0</th>\n",
       "      <td>ensemble_size</td>\n",
       "      <td>20</td>\n",
       "    </tr>\n",
       "    <tr>\n",
       "      <th>1</th>\n",
       "      <td>name</td>\n",
       "      <td>final_ensemble</td>\n",
       "    </tr>\n",
       "    <tr>\n",
       "      <th>2</th>\n",
       "      <td>scorer</td>\n",
       "      <td>make_scorer(accuracy_score)</td>\n",
       "    </tr>\n",
       "  </tbody>\n",
       "</table>\n",
       "</div>"
      ],
      "text/plain": [
       "             key                        value\n",
       "0  ensemble_size                           20\n",
       "1           name               final_ensemble\n",
       "2         scorer  make_scorer(accuracy_score)"
      ]
     },
     "metadata": {},
     "output_type": "display_data"
    },
    {
     "data": {
      "text/markdown": [
       "### Fitted parameters"
      ]
     },
     "metadata": {},
     "output_type": "display_data"
    },
    {
     "data": {
      "text/html": [
       "<div>\n",
       "<style scoped>\n",
       "    .dataframe tbody tr th:only-of-type {\n",
       "        vertical-align: middle;\n",
       "    }\n",
       "\n",
       "    .dataframe tbody tr th {\n",
       "        vertical-align: top;\n",
       "    }\n",
       "\n",
       "    .dataframe thead th {\n",
       "        text-align: right;\n",
       "    }\n",
       "</style>\n",
       "<table border=\"1\" class=\"dataframe\">\n",
       "  <thead>\n",
       "    <tr style=\"text-align: right;\">\n",
       "      <th></th>\n",
       "      <th>0</th>\n",
       "      <th>1</th>\n",
       "    </tr>\n",
       "  </thead>\n",
       "  <tbody>\n",
       "    <tr>\n",
       "      <th>0</th>\n",
       "      <td>weights</td>\n",
       "      <td>[0.7, 0.1, 0.1, 0.05, 0.05, 0.0, 0.0, 0.0, 0.0...</td>\n",
       "    </tr>\n",
       "    <tr>\n",
       "      <th>1</th>\n",
       "      <td>scores</td>\n",
       "      <td>[0.9673366834170855, 0.9723618090452262, 0.972...</td>\n",
       "    </tr>\n",
       "    <tr>\n",
       "      <th>2</th>\n",
       "      <td>best_stack</td>\n",
       "      <td>[0, 3, 0, 0, 0, 0, 0, 0, 1, 2, 0, 0, 0, 0, 0, ...</td>\n",
       "    </tr>\n",
       "    <tr>\n",
       "      <th>3</th>\n",
       "      <td>hits</td>\n",
       "      <td>{0: 14, 3: 1, 1: 2, 2: 2, 4: 1}</td>\n",
       "    </tr>\n",
       "    <tr>\n",
       "      <th>4</th>\n",
       "      <td>ensemble_size</td>\n",
       "      <td>20</td>\n",
       "    </tr>\n",
       "  </tbody>\n",
       "</table>\n",
       "</div>"
      ],
      "text/plain": [
       "GreedyEnsemble(weight=[0.7  0.1  0.1  0.05 0.05 0.   0.   0.   0.   0.  ], scores=[0.9673366834170855, 0.9723618090452262, 0.9723618090452262, 0.9723618090452262, 0.9723618090452262, 0.9723618090452262, 0.9723618090452262, 0.9723618090452262, 0.9723618090452262, 0.9748743718592965, 0.9748743718592965, 0.9748743718592965, 0.9748743718592965, 0.9748743718592965, 0.9748743718592965, 0.9748743718592965, 0.9748743718592965, 0.9748743718592965, 0.9748743718592965, 0.9748743718592965])"
      ]
     },
     "metadata": {},
     "output_type": "display_data"
    }
   ],
   "source": [
    "experiment = make_experiment(train_data.copy(),target='target',test_data=X_test,\n",
    "                             search_space=search_space)\n",
    "estimator = experiment.run()"
   ]
  },
  {
   "cell_type": "code",
   "execution_count": 7,
   "id": "e4212418",
   "metadata": {},
   "outputs": [
    {
     "data": {
      "text/plain": [
       "0.9568965517241379"
      ]
     },
     "execution_count": 7,
     "metadata": {},
     "output_type": "execute_result"
    }
   ],
   "source": [
    "scorer = get_scorer(metric_to_scoring('precision',pos_label=1))\n",
    "score = scorer(estimator, X_test, y_test)\n",
    "score"
   ]
  },
  {
   "cell_type": "markdown",
   "id": "193d8eb0",
   "metadata": {},
   "source": [
    "# Add SVM into GeneralSearchSpaceGenerator"
   ]
  },
  {
   "cell_type": "code",
   "execution_count": 8,
   "id": "bbb0cc98",
   "metadata": {},
   "outputs": [],
   "source": [
    "from hypergbm.search_space import GeneralSearchSpaceGenerator\n",
    "from hypergbm.estimators import XGBoostEstimator,LightGBMEstimator,CatBoostEstimator\n",
    "class GeneralSearchSpaceGeneratorPlusSVM(GeneralSearchSpaceGenerator):\n",
    "    def __init__(self,enable_svm=True, **kwargs):\n",
    "        super(GeneralSearchSpaceGeneratorPlusSVM, self).__init__(**kwargs)\n",
    "        self.enable_svm = enable_svm\n",
    "    @property\n",
    "    def default_svm_init_kwargs(self):\n",
    "        return {\n",
    "            'C': Real(0.1,5,0.1),\n",
    "            'kernel':Choice(['rbf','poly','sigmoid']),\n",
    "            'degree':Int(1,5),\n",
    "            'gamma':Real(0.0001,5,0.0002)\n",
    "        }\n",
    "    @property\n",
    "    def default_svm_fit_kwargs(self):\n",
    "        return {}\n",
    "    @property\n",
    "    def estimators(self):\n",
    "        r=super().estimators\n",
    "        if self.enable_svm:\n",
    "            r['svm'] = (SVMEstimator, self.default_svm_init_kwargs, self.default_svm_fit_kwargs)\n",
    "        return r\n",
    "generalSearchSpaceGeneratorPlusSVM = GeneralSearchSpaceGeneratorPlusSVM()"
   ]
  },
  {
   "cell_type": "code",
   "execution_count": 9,
   "id": "8f571693",
   "metadata": {},
   "outputs": [
    {
     "data": {
      "text/markdown": [
       "### Input Data"
      ]
     },
     "metadata": {},
     "output_type": "display_data"
    },
    {
     "data": {
      "text/html": [
       "<div>\n",
       "<style scoped>\n",
       "    .dataframe tbody tr th:only-of-type {\n",
       "        vertical-align: middle;\n",
       "    }\n",
       "\n",
       "    .dataframe tbody tr th {\n",
       "        vertical-align: top;\n",
       "    }\n",
       "\n",
       "    .dataframe thead th {\n",
       "        text-align: right;\n",
       "    }\n",
       "</style>\n",
       "<table border=\"1\" class=\"dataframe\">\n",
       "  <thead>\n",
       "    <tr style=\"text-align: right;\">\n",
       "      <th></th>\n",
       "      <th>X_train.shape</th>\n",
       "      <th>y_train.shape</th>\n",
       "      <th>X_eval.shape</th>\n",
       "      <th>y_eval.shape</th>\n",
       "      <th>X_test.shape</th>\n",
       "      <th>Task</th>\n",
       "    </tr>\n",
       "  </thead>\n",
       "  <tbody>\n",
       "    <tr>\n",
       "      <th>0</th>\n",
       "      <td>(398, 30)</td>\n",
       "      <td>(398,)</td>\n",
       "      <td>None</td>\n",
       "      <td>None</td>\n",
       "      <td>(171, 30)</td>\n",
       "      <td>binary(2)</td>\n",
       "    </tr>\n",
       "  </tbody>\n",
       "</table>\n",
       "</div>"
      ],
      "text/plain": [
       "  X_train.shape y_train.shape X_eval.shape y_eval.shape X_test.shape  \\\n",
       "0     (398, 30)        (398,)         None         None    (171, 30)   \n",
       "\n",
       "        Task  \n",
       "0  binary(2)  "
      ]
     },
     "metadata": {},
     "output_type": "display_data"
    },
    {
     "data": {
      "image/png": "[encoded data removed]",
      "text/plain": [
       "<Figure size 640x320 with 1 Axes>"
      ]
     },
     "metadata": {
      "needs_background": "light"
     },
     "output_type": "display_data"
    },
    {
     "data": {
      "text/markdown": [
       "## Data Clean"
      ]
     },
     "metadata": {},
     "output_type": "display_data"
    },
    {
     "data": {
      "text/markdown": [
       "### Initliazed parameters"
      ]
     },
     "metadata": {},
     "output_type": "display_data"
    },
    {
     "data": {
      "text/html": [
       "<div>\n",
       "<style scoped>\n",
       "    .dataframe tbody tr th:only-of-type {\n",
       "        vertical-align: middle;\n",
       "    }\n",
       "\n",
       "    .dataframe tbody tr th {\n",
       "        vertical-align: top;\n",
       "    }\n",
       "\n",
       "    .dataframe thead th {\n",
       "        text-align: right;\n",
       "    }\n",
       "</style>\n",
       "<table border=\"1\" class=\"dataframe\">\n",
       "  <thead>\n",
       "    <tr style=\"text-align: right;\">\n",
       "      <th></th>\n",
       "      <th>key</th>\n",
       "      <th>value</th>\n",
       "    </tr>\n",
       "  </thead>\n",
       "  <tbody>\n",
       "    <tr>\n",
       "      <th>0</th>\n",
       "      <td>cv</td>\n",
       "      <td>True</td>\n",
       "    </tr>\n",
       "    <tr>\n",
       "      <th>1</th>\n",
       "      <td>data_cleaner_args</td>\n",
       "      <td>{'nan_chars': None, 'correct_object_dtype': Tr...</td>\n",
       "    </tr>\n",
       "    <tr>\n",
       "      <th>2</th>\n",
       "      <td>name</td>\n",
       "      <td>data_clean</td>\n",
       "    </tr>\n",
       "    <tr>\n",
       "      <th>3</th>\n",
       "      <td>random_state</td>\n",
       "      <td>9527</td>\n",
       "    </tr>\n",
       "    <tr>\n",
       "      <th>4</th>\n",
       "      <td>train_test_split_strategy</td>\n",
       "      <td>None</td>\n",
       "    </tr>\n",
       "  </tbody>\n",
       "</table>\n",
       "</div>"
      ],
      "text/plain": [
       "                         key  \\\n",
       "0                         cv   \n",
       "1          data_cleaner_args   \n",
       "2                       name   \n",
       "3               random_state   \n",
       "4  train_test_split_strategy   \n",
       "\n",
       "                                               value  \n",
       "0                                               True  \n",
       "1  {'nan_chars': None, 'correct_object_dtype': Tr...  \n",
       "2                                         data_clean  \n",
       "3                                               9527  \n",
       "4                                               None  "
      ]
     },
     "metadata": {},
     "output_type": "display_data"
    },
    {
     "data": {
      "text/markdown": [
       "### Fitted parameters"
      ]
     },
     "metadata": {},
     "output_type": "display_data"
    },
    {
     "data": {
      "text/html": [
       "<div>\n",
       "<style scoped>\n",
       "    .dataframe tbody tr th:only-of-type {\n",
       "        vertical-align: middle;\n",
       "    }\n",
       "\n",
       "    .dataframe tbody tr th {\n",
       "        vertical-align: top;\n",
       "    }\n",
       "\n",
       "    .dataframe thead th {\n",
       "        text-align: right;\n",
       "    }\n",
       "</style>\n",
       "<table border=\"1\" class=\"dataframe\">\n",
       "  <thead>\n",
       "    <tr style=\"text-align: right;\">\n",
       "      <th></th>\n",
       "      <th>key</th>\n",
       "      <th>value</th>\n",
       "    </tr>\n",
       "  </thead>\n",
       "  <tbody>\n",
       "    <tr>\n",
       "      <th>0</th>\n",
       "      <td>input_features</td>\n",
       "      <td>[mean radius, mean texture, mean perimeter, me...</td>\n",
       "    </tr>\n",
       "    <tr>\n",
       "      <th>1</th>\n",
       "      <td>selected_features</td>\n",
       "      <td>[mean radius, mean texture, mean perimeter, me...</td>\n",
       "    </tr>\n",
       "    <tr>\n",
       "      <th>2</th>\n",
       "      <td>unselected_features</td>\n",
       "      <td>[]</td>\n",
       "    </tr>\n",
       "    <tr>\n",
       "      <th>3</th>\n",
       "      <td>X_train.shape</td>\n",
       "      <td>(398, 30)</td>\n",
       "    </tr>\n",
       "    <tr>\n",
       "      <th>4</th>\n",
       "      <td>y_train.shape</td>\n",
       "      <td>(398,)</td>\n",
       "    </tr>\n",
       "    <tr>\n",
       "      <th>5</th>\n",
       "      <td>X_eval.shape</td>\n",
       "      <td>None</td>\n",
       "    </tr>\n",
       "    <tr>\n",
       "      <th>6</th>\n",
       "      <td>y_eval.shape</td>\n",
       "      <td>None</td>\n",
       "    </tr>\n",
       "    <tr>\n",
       "      <th>7</th>\n",
       "      <td>X_test.shape</td>\n",
       "      <td>(171, 30)</td>\n",
       "    </tr>\n",
       "    <tr>\n",
       "      <th>8</th>\n",
       "      <td>unselected_reason</td>\n",
       "      <td>{}</td>\n",
       "    </tr>\n",
       "    <tr>\n",
       "      <th>9</th>\n",
       "      <td>kept/dropped feature count</td>\n",
       "      <td>30/0</td>\n",
       "    </tr>\n",
       "  </tbody>\n",
       "</table>\n",
       "</div>"
      ],
      "text/plain": [
       "                          key  \\\n",
       "0              input_features   \n",
       "1           selected_features   \n",
       "2         unselected_features   \n",
       "3               X_train.shape   \n",
       "4               y_train.shape   \n",
       "5                X_eval.shape   \n",
       "6                y_eval.shape   \n",
       "7                X_test.shape   \n",
       "8           unselected_reason   \n",
       "9  kept/dropped feature count   \n",
       "\n",
       "                                               value  \n",
       "0  [mean radius, mean texture, mean perimeter, me...  \n",
       "1  [mean radius, mean texture, mean perimeter, me...  \n",
       "2                                                 []  \n",
       "3                                          (398, 30)  \n",
       "4                                             (398,)  \n",
       "5                                               None  \n",
       "6                                               None  \n",
       "7                                          (171, 30)  \n",
       "8                                                 {}  \n",
       "9                                               30/0  "
      ]
     },
     "metadata": {},
     "output_type": "display_data"
    },
    {
     "data": {
      "text/markdown": [
       "## Drift Detection"
      ]
     },
     "metadata": {},
     "output_type": "display_data"
    },
    {
     "data": {
      "text/markdown": [
       "### Initliazed parameters"
      ]
     },
     "metadata": {},
     "output_type": "display_data"
    },
    {
     "data": {
      "text/html": [
       "<div>\n",
       "<style scoped>\n",
       "    .dataframe tbody tr th:only-of-type {\n",
       "        vertical-align: middle;\n",
       "    }\n",
       "\n",
       "    .dataframe tbody tr th {\n",
       "        vertical-align: top;\n",
       "    }\n",
       "\n",
       "    .dataframe thead th {\n",
       "        text-align: right;\n",
       "    }\n",
       "</style>\n",
       "<table border=\"1\" class=\"dataframe\">\n",
       "  <thead>\n",
       "    <tr style=\"text-align: right;\">\n",
       "      <th></th>\n",
       "      <th>key</th>\n",
       "      <th>value</th>\n",
       "    </tr>\n",
       "  </thead>\n",
       "  <tbody>\n",
       "    <tr>\n",
       "      <th>0</th>\n",
       "      <td>min_features</td>\n",
       "      <td>10</td>\n",
       "    </tr>\n",
       "    <tr>\n",
       "      <th>1</th>\n",
       "      <td>name</td>\n",
       "      <td>drift_detection</td>\n",
       "    </tr>\n",
       "    <tr>\n",
       "      <th>2</th>\n",
       "      <td>num_folds</td>\n",
       "      <td>5</td>\n",
       "    </tr>\n",
       "    <tr>\n",
       "      <th>3</th>\n",
       "      <td>remove_shift_variable</td>\n",
       "      <td>True</td>\n",
       "    </tr>\n",
       "    <tr>\n",
       "      <th>4</th>\n",
       "      <td>remove_size</td>\n",
       "      <td>0.1</td>\n",
       "    </tr>\n",
       "    <tr>\n",
       "      <th>5</th>\n",
       "      <td>threshold</td>\n",
       "      <td>0.7</td>\n",
       "    </tr>\n",
       "    <tr>\n",
       "      <th>6</th>\n",
       "      <td>variable_shift_threshold</td>\n",
       "      <td>0.7</td>\n",
       "    </tr>\n",
       "  </tbody>\n",
       "</table>\n",
       "</div>"
      ],
      "text/plain": [
       "                        key            value\n",
       "0              min_features               10\n",
       "1                      name  drift_detection\n",
       "2                 num_folds                5\n",
       "3     remove_shift_variable             True\n",
       "4               remove_size              0.1\n",
       "5                 threshold              0.7\n",
       "6  variable_shift_threshold              0.7"
      ]
     },
     "metadata": {},
     "output_type": "display_data"
    },
    {
     "data": {
      "text/markdown": [
       "### Fitted parameters"
      ]
     },
     "metadata": {},
     "output_type": "display_data"
    },
    {
     "data": {
      "text/html": [
       "<div>\n",
       "<style scoped>\n",
       "    .dataframe tbody tr th:only-of-type {\n",
       "        vertical-align: middle;\n",
       "    }\n",
       "\n",
       "    .dataframe tbody tr th {\n",
       "        vertical-align: top;\n",
       "    }\n",
       "\n",
       "    .dataframe thead th {\n",
       "        text-align: right;\n",
       "    }\n",
       "</style>\n",
       "<table border=\"1\" class=\"dataframe\">\n",
       "  <thead>\n",
       "    <tr style=\"text-align: right;\">\n",
       "      <th></th>\n",
       "      <th>key</th>\n",
       "      <th>value</th>\n",
       "    </tr>\n",
       "  </thead>\n",
       "  <tbody>\n",
       "    <tr>\n",
       "      <th>0</th>\n",
       "      <td>input_features</td>\n",
       "      <td>[mean radius, mean texture, mean perimeter, me...</td>\n",
       "    </tr>\n",
       "    <tr>\n",
       "      <th>1</th>\n",
       "      <td>selected_features</td>\n",
       "      <td>None</td>\n",
       "    </tr>\n",
       "    <tr>\n",
       "      <th>2</th>\n",
       "      <td>unselected_features</td>\n",
       "      <td>None</td>\n",
       "    </tr>\n",
       "    <tr>\n",
       "      <th>3</th>\n",
       "      <td>history</td>\n",
       "      <td>[{'auc': 0.5483613445378152, 'n_features': 30,...</td>\n",
       "    </tr>\n",
       "    <tr>\n",
       "      <th>4</th>\n",
       "      <td>scores</td>\n",
       "      <td>{'mean radius': 0.6553921568627451, 'mean text...</td>\n",
       "    </tr>\n",
       "  </tbody>\n",
       "</table>\n",
       "</div>"
      ],
      "text/plain": [
       "                   key                                              value\n",
       "0       input_features  [mean radius, mean texture, mean perimeter, me...\n",
       "1    selected_features                                               None\n",
       "2  unselected_features                                               None\n",
       "3              history  [{'auc': 0.5483613445378152, 'n_features': 30,...\n",
       "4               scores  {'mean radius': 0.6553921568627451, 'mean text..."
      ]
     },
     "metadata": {},
     "output_type": "display_data"
    },
    {
     "data": {
      "text/markdown": [
       "## Space Searching"
      ]
     },
     "metadata": {},
     "output_type": "display_data"
    },
    {
     "data": {
      "text/markdown": [
       "### Initliazed parameters"
      ]
     },
     "metadata": {},
     "output_type": "display_data"
    },
    {
     "data": {
      "text/html": [
       "<div>\n",
       "<style scoped>\n",
       "    .dataframe tbody tr th:only-of-type {\n",
       "        vertical-align: middle;\n",
       "    }\n",
       "\n",
       "    .dataframe tbody tr th {\n",
       "        vertical-align: top;\n",
       "    }\n",
       "\n",
       "    .dataframe thead th {\n",
       "        text-align: right;\n",
       "    }\n",
       "</style>\n",
       "<table border=\"1\" class=\"dataframe\">\n",
       "  <thead>\n",
       "    <tr style=\"text-align: right;\">\n",
       "      <th></th>\n",
       "      <th>key</th>\n",
       "      <th>value</th>\n",
       "    </tr>\n",
       "  </thead>\n",
       "  <tbody>\n",
       "    <tr>\n",
       "      <th>0</th>\n",
       "      <td>cv</td>\n",
       "      <td>True</td>\n",
       "    </tr>\n",
       "    <tr>\n",
       "      <th>1</th>\n",
       "      <td>name</td>\n",
       "      <td>space_searching</td>\n",
       "    </tr>\n",
       "    <tr>\n",
       "      <th>2</th>\n",
       "      <td>num_folds</td>\n",
       "      <td>3</td>\n",
       "    </tr>\n",
       "  </tbody>\n",
       "</table>\n",
       "</div>"
      ],
      "text/plain": [
       "         key            value\n",
       "0         cv             True\n",
       "1       name  space_searching\n",
       "2  num_folds                3"
      ]
     },
     "metadata": {},
     "output_type": "display_data"
    },
    {
     "data": {
      "text/markdown": [
       "#### Trials Summary:"
      ]
     },
     "metadata": {},
     "output_type": "display_data"
    },
    {
     "data": {
      "text/html": [
       "<div>\n",
       "<style scoped>\n",
       "    .dataframe tbody tr th:only-of-type {\n",
       "        vertical-align: middle;\n",
       "    }\n",
       "\n",
       "    .dataframe tbody tr th {\n",
       "        vertical-align: top;\n",
       "    }\n",
       "\n",
       "    .dataframe thead th {\n",
       "        text-align: right;\n",
       "    }\n",
       "</style>\n",
       "<table border=\"1\" class=\"dataframe\">\n",
       "  <thead>\n",
       "    <tr style=\"text-align: right;\">\n",
       "      <th></th>\n",
       "      <th>Trial No.</th>\n",
       "      <th>Previous reward</th>\n",
       "      <th>Best trial</th>\n",
       "      <th>Best reward</th>\n",
       "      <th>Total elapsed</th>\n",
       "      <th>Valid trials</th>\n",
       "      <th>Max trials</th>\n",
       "    </tr>\n",
       "  </thead>\n",
       "  <tbody>\n",
       "    <tr>\n",
       "      <th>0</th>\n",
       "      <td>10</td>\n",
       "      <td>0.954774</td>\n",
       "      <td>1</td>\n",
       "      <td>0.967337</td>\n",
       "      <td>33.067308</td>\n",
       "      <td>10</td>\n",
       "      <td>10</td>\n",
       "    </tr>\n",
       "  </tbody>\n",
       "</table>\n",
       "</div>"
      ],
      "text/plain": [
       "   Trial No.  Previous reward  Best trial  Best reward  Total elapsed  \\\n",
       "0         10         0.954774           1     0.967337      33.067308   \n",
       "\n",
       "   Valid trials  Max trials  \n",
       "0            10          10  "
      ]
     },
     "metadata": {},
     "output_type": "display_data"
    },
    {
     "data": {
      "text/markdown": [
       "#### Top trials:"
      ]
     },
     "metadata": {},
     "output_type": "display_data"
    },
    {
     "data": {
      "text/html": [
       "<div>\n",
       "<style scoped>\n",
       "    .dataframe tbody tr th:only-of-type {\n",
       "        vertical-align: middle;\n",
       "    }\n",
       "\n",
       "    .dataframe tbody tr th {\n",
       "        vertical-align: top;\n",
       "    }\n",
       "\n",
       "    .dataframe thead th {\n",
       "        text-align: right;\n",
       "    }\n",
       "</style>\n",
       "<table border=\"1\" class=\"dataframe\">\n",
       "  <thead>\n",
       "    <tr style=\"text-align: right;\">\n",
       "      <th></th>\n",
       "      <th>Trial No.</th>\n",
       "      <th>Reward</th>\n",
       "      <th>Elapsed</th>\n",
       "      <th>Space Vector</th>\n",
       "    </tr>\n",
       "  </thead>\n",
       "  <tbody>\n",
       "    <tr>\n",
       "      <th>0</th>\n",
       "      <td>1</td>\n",
       "      <td>0.967337</td>\n",
       "      <td>5.354422</td>\n",
       "      <td>[0, 1, 0, 2, 240, 2, 2, 2, 0, 1]</td>\n",
       "    </tr>\n",
       "    <tr>\n",
       "      <th>1</th>\n",
       "      <td>3</td>\n",
       "      <td>0.967337</td>\n",
       "      <td>0.251668</td>\n",
       "      <td>[0, 1, 1, 2, 365, 1, 2, 5, 2, 3, 0]</td>\n",
       "    </tr>\n",
       "    <tr>\n",
       "      <th>2</th>\n",
       "      <td>4</td>\n",
       "      <td>0.967337</td>\n",
       "      <td>0.116939</td>\n",
       "      <td>[3, 3, 1, 4.99, 1, 0.3301, 4, 3]</td>\n",
       "    </tr>\n",
       "    <tr>\n",
       "      <th>3</th>\n",
       "      <td>7</td>\n",
       "      <td>0.959799</td>\n",
       "      <td>0.451448</td>\n",
       "      <td>[2, 1, 1, 1, 2, 2, 0, 0]</td>\n",
       "    </tr>\n",
       "    <tr>\n",
       "      <th>4</th>\n",
       "      <td>2</td>\n",
       "      <td>0.957286</td>\n",
       "      <td>9.211510</td>\n",
       "      <td>[2, 2, 1, 4, 0, 3, 2, 1]</td>\n",
       "    </tr>\n",
       "  </tbody>\n",
       "</table>\n",
       "</div>"
      ],
      "text/plain": [
       "   Trial No.    Reward   Elapsed                         Space Vector\n",
       "0          1  0.967337  5.354422     [0, 1, 0, 2, 240, 2, 2, 2, 0, 1]\n",
       "1          3  0.967337  0.251668  [0, 1, 1, 2, 365, 1, 2, 5, 2, 3, 0]\n",
       "2          4  0.967337  0.116939     [3, 3, 1, 4.99, 1, 0.3301, 4, 3]\n",
       "3          7  0.959799  0.451448             [2, 1, 1, 1, 2, 2, 0, 0]\n",
       "4          2  0.957286  9.211510             [2, 2, 1, 4, 0, 3, 2, 1]"
      ]
     },
     "metadata": {},
     "output_type": "display_data"
    },
    {
     "name": "stderr",
     "output_type": "stream",
     "text": [
      "                                             \r"
     ]
    },
    {
     "data": {
      "text/markdown": [
       "#### Best Trial:"
      ]
     },
     "metadata": {},
     "output_type": "display_data"
    },
    {
     "data": {
      "text/html": [
       "<table border=\"1\" class=\"dataframe\">\n",
       "<thead>\n",
       "<tr style=\"text-align: right;\">\n",
       "  <th>key</th>\n",
       "  <th>value</th>\n",
       "</tr>\n",
       "</thead>\n",
       "<tbody><tr>\n",
       "  <td>signature</td>\n",
       "  <td>e56afb71704bbcfe90377e93b9eca781</td>\n",
       "</tr>\n",
       "<tr>\n",
       "  <td>vectors</td>\n",
       "  <td>[0, 1, 0, 2, 240, 2, 2, 2, 0, 1]</td>\n",
       "</tr><tr>\n",
       "  <td>0-estimator_options.hp_or</td>\n",
       "  <td>0</td>\n",
       "</tr>\n",
       "<tr><tr>\n",
       "  <td>1-numeric_imputer_0.strategy</td>\n",
       "  <td>median</td>\n",
       "</tr>\n",
       "<tr><tr>\n",
       "  <td>2-numeric_scaler_optional_0.hp_opt</td>\n",
       "  <td>False</td>\n",
       "</tr>\n",
       "<tr><tr>\n",
       "  <td>3-Module_LightGBMEstimator_1.boosting_type</td>\n",
       "  <td>goss</td>\n",
       "</tr>\n",
       "<tr><tr>\n",
       "  <td>4-Module_LightGBMEstimator_1.num_leaves</td>\n",
       "  <td>240</td>\n",
       "</tr>\n",
       "<tr><tr>\n",
       "  <td>5-Module_LightGBMEstimator_1.max_depth</td>\n",
       "  <td>7</td>\n",
       "</tr>\n",
       "<tr><tr>\n",
       "  <td>6-Module_LightGBMEstimator_1.learning_rate</td>\n",
       "  <td>0.5</td>\n",
       "</tr>\n",
       "<tr><tr>\n",
       "  <td>7-Module_LightGBMEstimator_1.n_estimators</td>\n",
       "  <td>50</td>\n",
       "</tr>\n",
       "<tr><tr>\n",
       "  <td>8-Module_LightGBMEstimator_1.reg_alpha</td>\n",
       "  <td>0.001</td>\n",
       "</tr>\n",
       "<tr><tr>\n",
       "  <td>9-Module_LightGBMEstimator_1.reg_lambda</td>\n",
       "  <td>0.01</td>\n",
       "</tr>\n",
       "<tr>  </tbody>\n",
       "</table>\n",
       "</div>"
      ],
      "text/plain": [
       "DAG_HyperSpace_1"
      ]
     },
     "metadata": {},
     "output_type": "display_data"
    },
    {
     "name": "stderr",
     "output_type": "stream",
     "text": [
      "                                             \r"
     ]
    },
    {
     "data": {
      "text/markdown": [
       "### Fitted parameters"
      ]
     },
     "metadata": {},
     "output_type": "display_data"
    },
    {
     "data": {
      "text/html": [
       "<div>\n",
       "<style scoped>\n",
       "    .dataframe tbody tr th:only-of-type {\n",
       "        vertical-align: middle;\n",
       "    }\n",
       "\n",
       "    .dataframe tbody tr th {\n",
       "        vertical-align: top;\n",
       "    }\n",
       "\n",
       "    .dataframe thead th {\n",
       "        text-align: right;\n",
       "    }\n",
       "</style>\n",
       "<table border=\"1\" class=\"dataframe\">\n",
       "  <thead>\n",
       "    <tr style=\"text-align: right;\">\n",
       "      <th></th>\n",
       "      <th>key</th>\n",
       "      <th>value</th>\n",
       "    </tr>\n",
       "  </thead>\n",
       "  <tbody>\n",
       "    <tr>\n",
       "      <th>0</th>\n",
       "      <td>input_features</td>\n",
       "      <td>[mean radius, mean texture, mean perimeter, me...</td>\n",
       "    </tr>\n",
       "    <tr>\n",
       "      <th>1</th>\n",
       "      <td>best_reward</td>\n",
       "      <td>0.967337</td>\n",
       "    </tr>\n",
       "    <tr>\n",
       "      <th>2</th>\n",
       "      <td>history</td>\n",
       "      <td>&lt;hypernets.core.trial.TrialHistory object at 0...</td>\n",
       "    </tr>\n",
       "  </tbody>\n",
       "</table>\n",
       "</div>"
      ],
      "text/plain": [
       "              key                                              value\n",
       "0  input_features  [mean radius, mean texture, mean perimeter, me...\n",
       "1     best_reward                                           0.967337\n",
       "2         history  <hypernets.core.trial.TrialHistory object at 0..."
      ]
     },
     "metadata": {},
     "output_type": "display_data"
    },
    {
     "data": {
      "text/markdown": [
       "## Final Ensemble"
      ]
     },
     "metadata": {},
     "output_type": "display_data"
    },
    {
     "data": {
      "text/markdown": [
       "### Initliazed parameters"
      ]
     },
     "metadata": {},
     "output_type": "display_data"
    },
    {
     "data": {
      "text/html": [
       "<div>\n",
       "<style scoped>\n",
       "    .dataframe tbody tr th:only-of-type {\n",
       "        vertical-align: middle;\n",
       "    }\n",
       "\n",
       "    .dataframe tbody tr th {\n",
       "        vertical-align: top;\n",
       "    }\n",
       "\n",
       "    .dataframe thead th {\n",
       "        text-align: right;\n",
       "    }\n",
       "</style>\n",
       "<table border=\"1\" class=\"dataframe\">\n",
       "  <thead>\n",
       "    <tr style=\"text-align: right;\">\n",
       "      <th></th>\n",
       "      <th>key</th>\n",
       "      <th>value</th>\n",
       "    </tr>\n",
       "  </thead>\n",
       "  <tbody>\n",
       "    <tr>\n",
       "      <th>0</th>\n",
       "      <td>ensemble_size</td>\n",
       "      <td>20</td>\n",
       "    </tr>\n",
       "    <tr>\n",
       "      <th>1</th>\n",
       "      <td>name</td>\n",
       "      <td>final_ensemble</td>\n",
       "    </tr>\n",
       "    <tr>\n",
       "      <th>2</th>\n",
       "      <td>scorer</td>\n",
       "      <td>make_scorer(accuracy_score)</td>\n",
       "    </tr>\n",
       "  </tbody>\n",
       "</table>\n",
       "</div>"
      ],
      "text/plain": [
       "             key                        value\n",
       "0  ensemble_size                           20\n",
       "1           name               final_ensemble\n",
       "2         scorer  make_scorer(accuracy_score)"
      ]
     },
     "metadata": {},
     "output_type": "display_data"
    },
    {
     "data": {
      "text/markdown": [
       "### Fitted parameters"
      ]
     },
     "metadata": {},
     "output_type": "display_data"
    },
    {
     "data": {
      "text/html": [
       "<div>\n",
       "<style scoped>\n",
       "    .dataframe tbody tr th:only-of-type {\n",
       "        vertical-align: middle;\n",
       "    }\n",
       "\n",
       "    .dataframe tbody tr th {\n",
       "        vertical-align: top;\n",
       "    }\n",
       "\n",
       "    .dataframe thead th {\n",
       "        text-align: right;\n",
       "    }\n",
       "</style>\n",
       "<table border=\"1\" class=\"dataframe\">\n",
       "  <thead>\n",
       "    <tr style=\"text-align: right;\">\n",
       "      <th></th>\n",
       "      <th>0</th>\n",
       "      <th>1</th>\n",
       "    </tr>\n",
       "  </thead>\n",
       "  <tbody>\n",
       "    <tr>\n",
       "      <th>0</th>\n",
       "      <td>weights</td>\n",
       "      <td>[0.7, 0.1, 0.1, 0.05, 0.05, 0.0, 0.0, 0.0, 0.0...</td>\n",
       "    </tr>\n",
       "    <tr>\n",
       "      <th>1</th>\n",
       "      <td>scores</td>\n",
       "      <td>[0.9673366834170855, 0.9723618090452262, 0.972...</td>\n",
       "    </tr>\n",
       "    <tr>\n",
       "      <th>2</th>\n",
       "      <td>best_stack</td>\n",
       "      <td>[0, 3, 0, 0, 0, 0, 0, 0, 1, 2, 0, 0, 0, 0, 0, ...</td>\n",
       "    </tr>\n",
       "    <tr>\n",
       "      <th>3</th>\n",
       "      <td>hits</td>\n",
       "      <td>{0: 14, 3: 1, 1: 2, 2: 2, 4: 1}</td>\n",
       "    </tr>\n",
       "    <tr>\n",
       "      <th>4</th>\n",
       "      <td>ensemble_size</td>\n",
       "      <td>20</td>\n",
       "    </tr>\n",
       "  </tbody>\n",
       "</table>\n",
       "</div>"
      ],
      "text/plain": [
       "GreedyEnsemble(weight=[0.7  0.1  0.1  0.05 0.05 0.   0.   0.   0.   0.  ], scores=[0.9673366834170855, 0.9723618090452262, 0.9723618090452262, 0.9723618090452262, 0.9723618090452262, 0.9723618090452262, 0.9723618090452262, 0.9723618090452262, 0.9723618090452262, 0.9748743718592965, 0.9748743718592965, 0.9748743718592965, 0.9748743718592965, 0.9748743718592965, 0.9748743718592965, 0.9748743718592965, 0.9748743718592965, 0.9748743718592965, 0.9748743718592965, 0.9748743718592965])"
      ]
     },
     "metadata": {},
     "output_type": "display_data"
    }
   ],
   "source": [
    "experiment = make_experiment(train_data.copy(),target='target',test_data=X_test,\n",
    "                             search_space=generalSearchSpaceGeneratorPlusSVM)\n",
    "estimator = experiment.run()"
   ]
  },
  {
   "cell_type": "code",
   "execution_count": 10,
   "id": "2f104e93",
   "metadata": {},
   "outputs": [
    {
     "data": {
      "text/plain": [
       "0.9646017699115044"
      ]
     },
     "execution_count": 10,
     "metadata": {},
     "output_type": "execute_result"
    }
   ],
   "source": [
    "scorer = get_scorer(metric_to_scoring('precision',pos_label=1))\n",
    "score = scorer(estimator, X_test, y_test)\n",
    "score"
   ]
  }
 ],
 "metadata": {
  "kernelspec": {
   "display_name": "Python 3",
   "language": "python",
   "name": "python3"
  },
  "language_info": {
   "codemirror_mode": {
    "name": "ipython",
    "version": 3
   },
   "file_extension": ".py",
   "mimetype": "text/x-python",
   "name": "python",
   "nbconvert_exporter": "python",
   "pygments_lexer": "ipython3",
   "version": "3.6.13"
  }
 },
 "nbformat": 4,
 "nbformat_minor": 5
}
