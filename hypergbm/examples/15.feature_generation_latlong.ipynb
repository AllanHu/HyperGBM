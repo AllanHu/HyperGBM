{
 "cells": [
  {
   "cell_type": "markdown",
   "id": "50ed32de",
   "metadata": {},
   "source": [
    "## Prepare train_data and test_data"
   ]
  },
  {
   "cell_type": "code",
   "execution_count": 1,
   "id": "b3b0c7d4",
   "metadata": {
    "scrolled": false
   },
   "outputs": [],
   "source": [
    "import pandas as pd\n",
    "from sklearn import datasets\n",
    "from sklearn.model_selection import train_test_split\n",
    "from hypergbm import make_experiment\n",
    "from hypernets.tabular.metrics import metric_to_scoring\n",
    "from sklearn.metrics import get_scorer"
   ]
  },
  {
   "cell_type": "code",
   "execution_count": 2,
   "id": "913bfc32",
   "metadata": {},
   "outputs": [],
   "source": [
    "train_data = pd.read_csv('datasets/West_Nile_Virus_II/train.csv.gz')\n",
    "test_data = pd.read_csv('datasets/West_Nile_Virus_II/test.csv.gz')\n",
    "X_train = train_data.copy()\n",
    "y_train = X_train.pop('WnvPresent')\n",
    "X_test = test_data.copy()\n",
    "y_test = X_test.pop('WnvPresent')"
   ]
  },
  {
   "cell_type": "code",
   "execution_count": 3,
   "id": "0026dcee",
   "metadata": {},
   "outputs": [
    {
     "data": {
      "text/html": [
       "<div>\n",
       "<style scoped>\n",
       "    .dataframe tbody tr th:only-of-type {\n",
       "        vertical-align: middle;\n",
       "    }\n",
       "\n",
       "    .dataframe tbody tr th {\n",
       "        vertical-align: top;\n",
       "    }\n",
       "\n",
       "    .dataframe thead th {\n",
       "        text-align: right;\n",
       "    }\n",
       "</style>\n",
       "<table border=\"1\" class=\"dataframe\">\n",
       "  <thead>\n",
       "    <tr style=\"text-align: right;\">\n",
       "      <th></th>\n",
       "      <th>Unnamed: 0</th>\n",
       "      <th>Address</th>\n",
       "      <th>Species</th>\n",
       "      <th>Block</th>\n",
       "      <th>Street</th>\n",
       "      <th>Trap</th>\n",
       "      <th>AddressNumberAndStreet</th>\n",
       "      <th>Latitude</th>\n",
       "      <th>Longitude</th>\n",
       "      <th>Latitude1</th>\n",
       "      <th>Longitude1</th>\n",
       "      <th>AddressAccuracy</th>\n",
       "      <th>NumMosquitos</th>\n",
       "    </tr>\n",
       "  </thead>\n",
       "  <tbody>\n",
       "    <tr>\n",
       "      <th>0</th>\n",
       "      <td>6709</td>\n",
       "      <td>South Cottage Grove Avenue, Chicago, IL, USA</td>\n",
       "      <td>CULEX PIPIENS/RESTUANS</td>\n",
       "      <td>10</td>\n",
       "      <td>S COTTAGE GROVE</td>\n",
       "      <td>T102</td>\n",
       "      <td>1000  S COTTAGE GROVE, Chicago, IL</td>\n",
       "      <td>41.750498</td>\n",
       "      <td>-87.605294</td>\n",
       "      <td>32.601011</td>\n",
       "      <td>-86.680736</td>\n",
       "      <td>5</td>\n",
       "      <td>6</td>\n",
       "    </tr>\n",
       "    <tr>\n",
       "      <th>1</th>\n",
       "      <td>789</td>\n",
       "      <td>1500 West Webster Avenue, Chicago, IL 60614, USA</td>\n",
       "      <td>CULEX PIPIENS</td>\n",
       "      <td>15</td>\n",
       "      <td>W WEBSTER AVE</td>\n",
       "      <td>T045</td>\n",
       "      <td>1500  W WEBSTER AVE, Chicago, IL</td>\n",
       "      <td>41.921600</td>\n",
       "      <td>-87.666455</td>\n",
       "      <td>61.302501</td>\n",
       "      <td>-158.775020</td>\n",
       "      <td>8</td>\n",
       "      <td>2</td>\n",
       "    </tr>\n",
       "    <tr>\n",
       "      <th>2</th>\n",
       "      <td>6556</td>\n",
       "      <td>ORD Terminal 5, O'Hare International Airport, ...</td>\n",
       "      <td>CULEX RESTUANS</td>\n",
       "      <td>10</td>\n",
       "      <td>W OHARE AIRPORT</td>\n",
       "      <td>T900</td>\n",
       "      <td>1000  W OHARE AIRPORT, Chicago, IL</td>\n",
       "      <td>41.974689</td>\n",
       "      <td>-87.890615</td>\n",
       "      <td>34.168219</td>\n",
       "      <td>-111.930907</td>\n",
       "      <td>9</td>\n",
       "      <td>16</td>\n",
       "    </tr>\n",
       "    <tr>\n",
       "      <th>3</th>\n",
       "      <td>8170</td>\n",
       "      <td>ORD Terminal 5, O'Hare International Airport, ...</td>\n",
       "      <td>CULEX RESTUANS</td>\n",
       "      <td>10</td>\n",
       "      <td>W OHARE AIRPORT</td>\n",
       "      <td>T900</td>\n",
       "      <td>1000  W OHARE AIRPORT, Chicago, IL</td>\n",
       "      <td>41.974689</td>\n",
       "      <td>-87.890615</td>\n",
       "      <td>34.751928</td>\n",
       "      <td>-92.131378</td>\n",
       "      <td>9</td>\n",
       "      <td>2</td>\n",
       "    </tr>\n",
       "    <tr>\n",
       "      <th>4</th>\n",
       "      <td>6517</td>\n",
       "      <td>3700 South Pulaski Road, Chicago, IL 60623, USA</td>\n",
       "      <td>CULEX PIPIENS/RESTUANS</td>\n",
       "      <td>37</td>\n",
       "      <td>S PULASKI RD</td>\n",
       "      <td>T063</td>\n",
       "      <td>3700  S PULASKI RD, Chicago, IL</td>\n",
       "      <td>41.825610</td>\n",
       "      <td>-87.726549</td>\n",
       "      <td>37.271875</td>\n",
       "      <td>-119.270415</td>\n",
       "      <td>9</td>\n",
       "      <td>10</td>\n",
       "    </tr>\n",
       "  </tbody>\n",
       "</table>\n",
       "</div>"
      ],
      "text/plain": [
       "   Unnamed: 0                                            Address  \\\n",
       "0        6709       South Cottage Grove Avenue, Chicago, IL, USA   \n",
       "1         789   1500 West Webster Avenue, Chicago, IL 60614, USA   \n",
       "2        6556  ORD Terminal 5, O'Hare International Airport, ...   \n",
       "3        8170  ORD Terminal 5, O'Hare International Airport, ...   \n",
       "4        6517    3700 South Pulaski Road, Chicago, IL 60623, USA   \n",
       "\n",
       "                  Species  Block            Street  Trap  \\\n",
       "0  CULEX PIPIENS/RESTUANS     10   S COTTAGE GROVE  T102   \n",
       "1           CULEX PIPIENS     15     W WEBSTER AVE  T045   \n",
       "2          CULEX RESTUANS     10   W OHARE AIRPORT  T900   \n",
       "3          CULEX RESTUANS     10   W OHARE AIRPORT  T900   \n",
       "4  CULEX PIPIENS/RESTUANS     37      S PULASKI RD  T063   \n",
       "\n",
       "               AddressNumberAndStreet   Latitude  Longitude  Latitude1  \\\n",
       "0  1000  S COTTAGE GROVE, Chicago, IL  41.750498 -87.605294  32.601011   \n",
       "1    1500  W WEBSTER AVE, Chicago, IL  41.921600 -87.666455  61.302501   \n",
       "2  1000  W OHARE AIRPORT, Chicago, IL  41.974689 -87.890615  34.168219   \n",
       "3  1000  W OHARE AIRPORT, Chicago, IL  41.974689 -87.890615  34.751928   \n",
       "4     3700  S PULASKI RD, Chicago, IL  41.825610 -87.726549  37.271875   \n",
       "\n",
       "   Longitude1  AddressAccuracy  NumMosquitos  \n",
       "0  -86.680736                5             6  \n",
       "1 -158.775020                8             2  \n",
       "2 -111.930907                9            16  \n",
       "3  -92.131378                9             2  \n",
       "4 -119.270415                9            10  "
      ]
     },
     "execution_count": 3,
     "metadata": {},
     "output_type": "execute_result"
    }
   ],
   "source": [
    "X_train.head()"
   ]
  },
  {
   "cell_type": "code",
   "execution_count": 4,
   "id": "e6ce2ec3",
   "metadata": {
    "scrolled": true
   },
   "outputs": [
    {
     "name": "stdout",
     "output_type": "stream",
     "text": [
      "<class 'pandas.core.frame.DataFrame'>\n",
      "RangeIndex: 8404 entries, 0 to 8403\n",
      "Data columns (total 13 columns):\n",
      " #   Column                  Non-Null Count  Dtype  \n",
      "---  ------                  --------------  -----  \n",
      " 0   Unnamed: 0              8404 non-null   int64  \n",
      " 1   Address                 8404 non-null   object \n",
      " 2   Species                 8404 non-null   object \n",
      " 3   Block                   8404 non-null   int64  \n",
      " 4   Street                  8404 non-null   object \n",
      " 5   Trap                    8404 non-null   object \n",
      " 6   AddressNumberAndStreet  8404 non-null   object \n",
      " 7   Latitude                8404 non-null   float64\n",
      " 8   Longitude               8404 non-null   float64\n",
      " 9   Latitude1               8404 non-null   float64\n",
      " 10  Longitude1              8404 non-null   float64\n",
      " 11  AddressAccuracy         8404 non-null   int64  \n",
      " 12  NumMosquitos            8404 non-null   int64  \n",
      "dtypes: float64(4), int64(4), object(5)\n",
      "memory usage: 853.7+ KB\n"
     ]
    }
   ],
   "source": [
    "X_train.info()"
   ]
  },
  {
   "cell_type": "markdown",
   "id": "d278be68",
   "metadata": {},
   "source": [
    "# Without feature_generation\n",
    "_best_reward is 0.75"
   ]
  },
  {
   "cell_type": "code",
   "execution_count": 5,
   "id": "f074626a",
   "metadata": {
    "scrolled": true
   },
   "outputs": [
    {
     "name": "stdout",
     "output_type": "stream",
     "text": [
      "07-26 16:31:58 I hypernets.u.common.py 138 - 2 class detected, {0, 1}, so inferred as a [binary classification] task\n",
      "07-26 16:31:58 I hypernets.e.compete.py 1234 - create experiment with ['data_clean', 'drift_detection', 'space_searching', 'final_ensemble']\n",
      "07-26 16:31:58 I hypernets.e._maker.py 279 - make_experiment with train data:(8404, 13), test data:(2102, 14), eval data:None, target:WnvPresent\n"
     ]
    },
    {
     "data": {
      "application/vnd.jupyter.widget-view+json": {
       "model_id": "88ad35e1ff284f59ac6ac9ab0cb328a0",
       "version_major": 2,
       "version_minor": 0
      },
      "text/plain": [
       "ExperimentProcessWidget(initData='{\"steps\": [{\"index\": 0, \"name\": \"data_clean\", \"type\": \"DataCleanStep\", \"stat…"
      ]
     },
     "metadata": {},
     "output_type": "display_data"
    },
    {
     "name": "stderr",
     "output_type": "stream",
     "text": [
      "07-26 16:31:59 W hypernets.e.compete.py 1251 - X_train['Unnamed: 0', 'Address', 'Species', 'Block', 'Street', 'Trap', 'AddressNumberAndStreet', 'Latitude', 'Longitude', 'Latitude1', 'Longitude1', 'AddressAccuracy', 'NumMosquitos'] and X_test['Unnamed: 0', 'Address', 'Species', 'Block', 'Street', 'Trap', 'AddressNumberAndStreet', 'Latitude', 'Longitude', 'Latitude1', 'Longitude1', 'AddressAccuracy', 'NumMosquitos', 'WnvPresent'] have different columns before data_clean, try fix it.\n"
     ]
    },
    {
     "name": "stdout",
     "output_type": "stream",
     "text": [
      "07-26 16:31:59 I hypernets.e.compete.py 1263 - fit_transform data_clean with columns: ['Unnamed: 0', 'Address', 'Species', 'Block', 'Street', 'Trap', 'AddressNumberAndStreet', 'Latitude', 'Longitude', 'Latitude1', 'Longitude1', 'AddressAccuracy', 'NumMosquitos']\n",
      "07-26 16:31:59 I hypernets.e.compete.py 305 - data_clean transform train data\n",
      "07-26 16:31:59 I hypernets.t.data_cleaner.py 326 - drop columns: ['Unnamed: 0']\n",
      "07-26 16:31:59 I hypernets.e.compete.py 310 - data_clean transform test data\n",
      "07-26 16:31:59 I hypernets.t.data_cleaner.py 326 - drop columns: ['Unnamed: 0']\n",
      "07-26 16:31:59 I hypernets.e.compete.py 351 - data_clean keep 12 columns\n",
      "07-26 16:31:59 I hypernets.e.compete.py 1263 - fit_transform drift_detection with columns: ['Address', 'Species', 'Block', 'Street', 'Trap', 'AddressNumberAndStreet', 'Latitude', 'Longitude', 'Latitude1', 'Longitude1', 'AddressAccuracy', 'NumMosquitos']\n",
      "07-26 16:31:59 I hypernets.e.compete.py 186 - drift_detection cache_transform: 12 columns kept (do nothing).\n",
      "07-26 16:31:59 I hypernets.e.compete.py 1263 - fit_transform space_searching with columns: ['Address', 'Species', 'Block', 'Street', 'Trap', 'AddressNumberAndStreet', 'Latitude', 'Longitude', 'Latitude1', 'Longitude1', 'AddressAccuracy', 'NumMosquitos']\n",
      "07-26 16:31:59 I hypernets.c.meta_learner.py 22 - Initialize Meta Learner: dataset_id:594ca734aaac8944b7b5e08d988ff1e9\n",
      "07-26 16:32:14 I hypergbm.hyper_gbm.py 310 - oof_scores:[{'recall': 0.23026315789473684}, {'recall': 0.26490066225165565}, {'recall': 0.24342105263157895}]\n",
      "07-26 16:32:14 I hypernets.d.in_process_dispatcher.py 76 - Trial 1 done, reward: 0.24615384615384617, best_trial_no:1, best_reward:0.24615384615384617\n",
      "\n",
      "07-26 16:32:20 I hypergbm.hyper_gbm.py 310 - oof_scores:[{'recall': 0.6052631578947368}, {'recall': 0.5894039735099338}, {'recall': 0.5460526315789473}]\n",
      "07-26 16:32:20 I hypernets.d.in_process_dispatcher.py 76 - Trial 2 done, reward: 0.5802197802197803, best_trial_no:2, best_reward:0.5802197802197803\n",
      "\n",
      "07-26 16:32:24 I hypergbm.hyper_gbm.py 310 - oof_scores:[{'recall': 0.5197368421052632}, {'recall': 0.4900662251655629}, {'recall': 0.40131578947368424}]\n",
      "07-26 16:32:24 I hypernets.d.in_process_dispatcher.py 76 - Trial 3 done, reward: 0.4703296703296703, best_trial_no:2, best_reward:0.5802197802197803\n",
      "\n",
      "07-26 16:32:43 I hypergbm.hyper_gbm.py 310 - oof_scores:[{'recall': 0.6381578947368421}, {'recall': 0.6754966887417219}, {'recall': 0.6973684210526315}]\n",
      "07-26 16:32:43 I hypernets.d.in_process_dispatcher.py 76 - Trial 4 done, reward: 0.6703296703296703, best_trial_no:4, best_reward:0.6703296703296703\n",
      "\n",
      "07-26 16:32:47 I hypergbm.hyper_gbm.py 310 - oof_scores:[{'recall': 0.5197368421052632}, {'recall': 0.5099337748344371}, {'recall': 0.39473684210526316}]\n",
      "07-26 16:32:47 I hypernets.d.in_process_dispatcher.py 76 - Trial 5 done, reward: 0.4747252747252747, best_trial_no:4, best_reward:0.6703296703296703\n",
      "\n",
      "07-26 16:33:08 I hypergbm.hyper_gbm.py 310 - oof_scores:[{'recall': 0.6118421052631579}, {'recall': 0.6688741721854304}, {'recall': 0.6776315789473685}]\n",
      "07-26 16:33:08 I hypernets.d.in_process_dispatcher.py 76 - Trial 6 done, reward: 0.6527472527472528, best_trial_no:4, best_reward:0.6703296703296703\n",
      "\n",
      "07-26 16:33:20 I hypergbm.hyper_gbm.py 310 - oof_scores:[{'recall': 0.5789473684210527}, {'recall': 0.7086092715231788}, {'recall': 0.631578947368421}]\n",
      "07-26 16:33:20 I hypernets.d.in_process_dispatcher.py 76 - Trial 7 done, reward: 0.6395604395604395, best_trial_no:4, best_reward:0.6703296703296703\n",
      "\n",
      "07-26 16:33:29 I hypergbm.hyper_gbm.py 310 - oof_scores:[{'recall': 0.3223684210526316}, {'recall': 0.33112582781456956}, {'recall': 0.2565789473684211}]\n",
      "07-26 16:33:30 I hypernets.d.in_process_dispatcher.py 76 - Trial 8 done, reward: 0.3032967032967033, best_trial_no:4, best_reward:0.6703296703296703\n",
      "\n",
      "07-26 16:33:37 I hypergbm.hyper_gbm.py 310 - oof_scores:[{'recall': 0.3815789473684211}, {'recall': 0.36423841059602646}, {'recall': 0.40131578947368424}]\n",
      "07-26 16:33:37 I hypernets.d.in_process_dispatcher.py 76 - Trial 9 done, reward: 0.3824175824175824, best_trial_no:4, best_reward:0.6703296703296703\n",
      "\n",
      "07-26 16:34:05 I hypergbm.hyper_gbm.py 310 - oof_scores:[{'recall': 0.7763157894736842}, {'recall': 0.7814569536423841}, {'recall': 0.7631578947368421}]\n",
      "07-26 16:34:06 I hypernets.d.in_process_dispatcher.py 76 - Trial 10 done, reward: 0.7736263736263737, best_trial_no:10, best_reward:0.7736263736263737\n",
      "\n",
      "07-26 16:34:06 I hypernets.e.compete.py 764 - space_searching best_reward: 0.7736263736263737\n",
      "07-26 16:34:06 I hypernets.e.compete.py 1263 - fit_transform final_ensemble with columns: ['Address', 'Species', 'Block', 'Street', 'Trap', 'AddressNumberAndStreet', 'Latitude', 'Longitude', 'Latitude1', 'Longitude1', 'AddressAccuracy', 'NumMosquitos']\n",
      "07-26 16:34:06 I hypernets.e.compete.py 1006 - ensemble with oofs\n",
      "07-26 16:34:07 I hypernets.e.compete.py 966 - built estimator: GreedyEnsemble(weight=[0.75 0.25 0.   0.   0.   0.   0.   0.   0.   0.  ], scores=[0.7736263736263737, 0.7758241758241758, 0.7846153846153846, 0.7846153846153846, 0.7824175824175824, 0.7846153846153846, 0.7846153846153846, 0.7846153846153846, 0.7846153846153846, 0.7846153846153846, 0.7846153846153846, 0.7846153846153846, 0.7846153846153846, 0.7846153846153846, 0.7846153846153846, 0.7846153846153846, 0.7846153846153846, 0.7846153846153846, 0.7846153846153846, 0.7846153846153846])\n",
      "07-26 16:34:07 I hypernets.e.compete.py 1335 - trained experiment pipeline: ['data_clean', 'estimator']\n"
     ]
    }
   ],
   "source": [
    "experiment = make_experiment(train_data.copy(),test_data=test_data.copy(),target='WnvPresent',\n",
    "                             reward_metric='recall',pos_label=1,random_state=8888,max_trials=10,log_level='info',\n",
    "                             class_balancing='RandomUnderSampling')\n",
    "estimator = experiment.run()"
   ]
  },
  {
   "cell_type": "code",
   "execution_count": 6,
   "id": "1c91411d",
   "metadata": {},
   "outputs": [
    {
     "name": "stdout",
     "output_type": "stream",
     "text": [
      "07-26 16:34:07 I hypernets.t.data_cleaner.py 326 - drop columns: ['Unnamed: 0']\n"
     ]
    },
    {
     "data": {
      "text/plain": [
       "0.75"
      ]
     },
     "execution_count": 6,
     "metadata": {},
     "output_type": "execute_result"
    }
   ],
   "source": [
    "scorer = get_scorer(metric_to_scoring('recall',pos_label=1))\n",
    "score = scorer(estimator, X_test, y_test)*scorer._sign\n",
    "score"
   ]
  },
  {
   "cell_type": "markdown",
   "id": "45cda04b",
   "metadata": {},
   "source": [
    "# Introduce func of feature_generation\n",
    "-- visit https://github.com/alteryx/featuretools for more datails"
   ]
  },
  {
   "cell_type": "code",
   "execution_count": 7,
   "id": "3486e1e0",
   "metadata": {},
   "outputs": [],
   "source": [
    "from hypernets.tabular.feature_generators import FeatureGenerationTransformer"
   ]
  },
  {
   "cell_type": "code",
   "execution_count": 8,
   "id": "5c032885",
   "metadata": {
    "scrolled": true
   },
   "outputs": [],
   "source": [
    "train_data['latlong1'] = train_data[['Latitude', 'Longitude']].apply(tuple, axis=1)\n",
    "test_data['latlong1'] = test_data[['Latitude', 'Longitude']].apply(tuple, axis=1)\n",
    "train_data['latlong2'] = train_data[['Latitude1', 'Longitude1']].apply(tuple, axis=1)\n",
    "test_data['latlong2'] = test_data[['Latitude1', 'Longitude1']].apply(tuple, axis=1)\n",
    "X_train = train_data.copy()\n",
    "y_train = X_train.pop('WnvPresent')\n",
    "X_test = test_data.copy()\n",
    "y_test = X_test.pop('WnvPresent')"
   ]
  },
  {
   "cell_type": "code",
   "execution_count": 9,
   "id": "5d6eaab0",
   "metadata": {},
   "outputs": [],
   "source": [
    "featureGenerationTransformer = FeatureGenerationTransformer(latlong_cols=['latlong1','latlong2'])\n",
    "featureGenerationTransformer.fit(pd.DataFrame(train_data[['latlong1','latlong2']]))\n",
    "X_test_new = featureGenerationTransformer.transform(pd.DataFrame(test_data[['latlong1','latlong2']]))"
   ]
  },
  {
   "cell_type": "code",
   "execution_count": 10,
   "id": "51357f05",
   "metadata": {},
   "outputs": [
    {
     "name": "stdout",
     "output_type": "stream",
     "text": [
      "<class 'pandas.core.frame.DataFrame'>\n",
      "Int64Index: 2102 entries, 0 to 2101\n",
      "Data columns (total 5 columns):\n",
      " #   Column                                                 Non-Null Count  Dtype  \n",
      "---  ------                                                 --------------  -----  \n",
      " 0   latlong1                                               2102 non-null   object \n",
      " 1   latlong2                                               2102 non-null   object \n",
      " 2   GEOHASH__latlong1__                                    2102 non-null   object \n",
      " 3   GEOHASH__latlong2__                                    2102 non-null   object \n",
      " 4   HAVERSINE__latlong1____latlong2____unit__kilometers__  2102 non-null   float64\n",
      "dtypes: float64(1), object(4)\n",
      "memory usage: 98.5+ KB\n"
     ]
    }
   ],
   "source": [
    "X_test_new.info()"
   ]
  },
  {
   "cell_type": "code",
   "execution_count": 11,
   "id": "44a3d904",
   "metadata": {},
   "outputs": [
    {
     "data": {
      "text/html": [
       "<div>\n",
       "<style scoped>\n",
       "    .dataframe tbody tr th:only-of-type {\n",
       "        vertical-align: middle;\n",
       "    }\n",
       "\n",
       "    .dataframe tbody tr th {\n",
       "        vertical-align: top;\n",
       "    }\n",
       "\n",
       "    .dataframe thead th {\n",
       "        text-align: right;\n",
       "    }\n",
       "</style>\n",
       "<table border=\"1\" class=\"dataframe\">\n",
       "  <thead>\n",
       "    <tr style=\"text-align: right;\">\n",
       "      <th></th>\n",
       "      <th>latlong1</th>\n",
       "      <th>latlong2</th>\n",
       "      <th>GEOHASH__latlong1__</th>\n",
       "      <th>GEOHASH__latlong2__</th>\n",
       "      <th>HAVERSINE__latlong1____latlong2____unit__kilometers__</th>\n",
       "    </tr>\n",
       "    <tr>\n",
       "      <th>e_hypernets_ft_index</th>\n",
       "      <th></th>\n",
       "      <th></th>\n",
       "      <th></th>\n",
       "      <th></th>\n",
       "      <th></th>\n",
       "    </tr>\n",
       "  </thead>\n",
       "  <tbody>\n",
       "    <tr>\n",
       "      <th>0</th>\n",
       "      <td>(41.948167, -87.730698)</td>\n",
       "      <td>(32.601011199999995, -86.6807365)</td>\n",
       "      <td>dp3weskmy945</td>\n",
       "      <td>djf37wc48kyq</td>\n",
       "      <td>1043.476383</td>\n",
       "    </tr>\n",
       "    <tr>\n",
       "      <th>1</th>\n",
       "      <td>(41.903002, -87.68826700000001)</td>\n",
       "      <td>(61.3025006, -158.7750198)</td>\n",
       "      <td>dp3wks5qem9p</td>\n",
       "      <td>b6zhdzz8cykk</td>\n",
       "      <td>5052.504275</td>\n",
       "    </tr>\n",
       "    <tr>\n",
       "      <th>2</th>\n",
       "      <td>(41.974689, -87.890615)</td>\n",
       "      <td>(34.1682185, -111.930907)</td>\n",
       "      <td>dp3wb12021pk</td>\n",
       "      <td>9w06kunkkcd6</td>\n",
       "      <td>2266.646309</td>\n",
       "    </tr>\n",
       "    <tr>\n",
       "      <th>3</th>\n",
       "      <td>(41.869107, -87.69629300000001)</td>\n",
       "      <td>(34.7519275, -92.13137840000002)</td>\n",
       "      <td>dp3whqj90r0r</td>\n",
       "      <td>9ynmxqruxkc4</td>\n",
       "      <td>880.605092</td>\n",
       "    </tr>\n",
       "    <tr>\n",
       "      <th>4</th>\n",
       "      <td>(41.825902, -87.667827)</td>\n",
       "      <td>(37.2718745, -119.2704153)</td>\n",
       "      <td>dp3tvn4jx94p</td>\n",
       "      <td>9qehjcjumuur</td>\n",
       "      <td>2740.466848</td>\n",
       "    </tr>\n",
       "  </tbody>\n",
       "</table>\n",
       "</div>"
      ],
      "text/plain": [
       "                                             latlong1  \\\n",
       "e_hypernets_ft_index                                    \n",
       "0                             (41.948167, -87.730698)   \n",
       "1                     (41.903002, -87.68826700000001)   \n",
       "2                             (41.974689, -87.890615)   \n",
       "3                     (41.869107, -87.69629300000001)   \n",
       "4                             (41.825902, -87.667827)   \n",
       "\n",
       "                                               latlong2 GEOHASH__latlong1__  \\\n",
       "e_hypernets_ft_index                                                          \n",
       "0                     (32.601011199999995, -86.6807365)        dp3weskmy945   \n",
       "1                            (61.3025006, -158.7750198)        dp3wks5qem9p   \n",
       "2                             (34.1682185, -111.930907)        dp3wb12021pk   \n",
       "3                      (34.7519275, -92.13137840000002)        dp3whqj90r0r   \n",
       "4                            (37.2718745, -119.2704153)        dp3tvn4jx94p   \n",
       "\n",
       "                     GEOHASH__latlong2__  \\\n",
       "e_hypernets_ft_index                       \n",
       "0                           djf37wc48kyq   \n",
       "1                           b6zhdzz8cykk   \n",
       "2                           9w06kunkkcd6   \n",
       "3                           9ynmxqruxkc4   \n",
       "4                           9qehjcjumuur   \n",
       "\n",
       "                      HAVERSINE__latlong1____latlong2____unit__kilometers__  \n",
       "e_hypernets_ft_index                                                         \n",
       "0                                                           1043.476383      \n",
       "1                                                           5052.504275      \n",
       "2                                                           2266.646309      \n",
       "3                                                            880.605092      \n",
       "4                                                           2740.466848      "
      ]
     },
     "execution_count": 11,
     "metadata": {},
     "output_type": "execute_result"
    }
   ],
   "source": [
    "X_test_new.head()"
   ]
  },
  {
   "cell_type": "markdown",
   "id": "be594fa1",
   "metadata": {},
   "source": [
    "# Use feature_generation\n",
    "_best_reward is 0.802 "
   ]
  },
  {
   "cell_type": "code",
   "execution_count": 12,
   "id": "1c3bcccd",
   "metadata": {
    "scrolled": true
   },
   "outputs": [
    {
     "name": "stdout",
     "output_type": "stream",
     "text": [
      "07-26 16:34:08 I hypernets.u.common.py 138 - 2 class detected, {0, 1}, so inferred as a [binary classification] task\n",
      "07-26 16:34:08 I hypernets.e.compete.py 1564 - detected datetime columns: []\n",
      "07-26 16:34:08 I hypernets.e.compete.py 1567 - detected latlong columns: ['latlong1', 'latlong2']\n",
      "07-26 16:34:08 I hypernets.e.compete.py 1234 - create experiment with ['data_clean', 'feature_generation', 'space_searching', 'final_ensemble']\n",
      "07-26 16:34:08 I hypernets.e._maker.py 279 - make_experiment with train data:(8404, 15), test data:(2102, 16), eval data:(2102, 15), target:WnvPresent\n"
     ]
    },
    {
     "data": {
      "application/vnd.jupyter.widget-view+json": {
       "model_id": "b479ab997395475eaff257c2b10099c4",
       "version_major": 2,
       "version_minor": 0
      },
      "text/plain": [
       "ExperimentProcessWidget(initData='{\"steps\": [{\"index\": 0, \"name\": \"data_clean\", \"type\": \"DataCleanStep\", \"stat…"
      ]
     },
     "metadata": {},
     "output_type": "display_data"
    },
    {
     "name": "stderr",
     "output_type": "stream",
     "text": [
      "07-26 16:34:08 W hypernets.e.compete.py 1251 - X_train['Unnamed: 0', 'Address', 'Species', 'Block', 'Street', 'Trap', 'AddressNumberAndStreet', 'Latitude', 'Longitude', 'Latitude1', 'Longitude1', 'AddressAccuracy', 'NumMosquitos', 'latlong1', 'latlong2'] and X_test['Unnamed: 0', 'Address', 'Species', 'Block', 'Street', 'Trap', 'AddressNumberAndStreet', 'Latitude', 'Longitude', 'Latitude1', 'Longitude1', 'AddressAccuracy', 'NumMosquitos', 'WnvPresent', 'latlong1', 'latlong2'] have different columns before data_clean, try fix it.\n"
     ]
    },
    {
     "name": "stdout",
     "output_type": "stream",
     "text": [
      "07-26 16:34:08 I hypernets.e.compete.py 1263 - fit_transform data_clean with columns: ['Unnamed: 0', 'Address', 'Species', 'Block', 'Street', 'Trap', 'AddressNumberAndStreet', 'Latitude', 'Longitude', 'Latitude1', 'Longitude1', 'AddressAccuracy', 'NumMosquitos', 'latlong1', 'latlong2']\n",
      "07-26 16:34:09 I hypernets.e.compete.py 297 - data_clean cv enabled, so concat train data and eval data\n",
      "07-26 16:34:09 I hypernets.e.compete.py 305 - data_clean transform train data\n",
      "07-26 16:34:09 I hypernets.t.data_cleaner.py 326 - drop columns: ['Unnamed: 0']\n",
      "07-26 16:34:09 I hypernets.e.compete.py 310 - data_clean transform test data\n",
      "07-26 16:34:09 I hypernets.t.data_cleaner.py 326 - drop columns: ['Unnamed: 0']\n",
      "07-26 16:34:09 I hypernets.e.compete.py 351 - data_clean keep 14 columns\n",
      "07-26 16:34:09 I hypernets.e.compete.py 1263 - fit_transform feature_generation with columns: ['Address', 'Species', 'Block', 'Street', 'Trap', 'AddressNumberAndStreet', 'Latitude', 'Longitude', 'Latitude1', 'Longitude1', 'AddressAccuracy', 'NumMosquitos', 'latlong1', 'latlong2']\n",
      "07-26 16:34:09 I hypernets.e.compete.py 424 - feature_generation cache_transform\n",
      "07-26 16:34:09 I hypernets.e.compete.py 1263 - fit_transform space_searching with columns: ['Block', 'Latitude', 'Longitude', 'Latitude1', 'Longitude1', 'AddressAccuracy', 'NumMosquitos', 'Address', 'Species', 'Street', 'Trap', 'AddressNumberAndStreet', 'GEOHASH__latlong1__', 'GEOHASH__latlong2__', 'HAVERSINE__latlong1____latlong2____unit__kilometers__']\n",
      "07-26 16:34:10 I hypernets.c.meta_learner.py 22 - Initialize Meta Learner: dataset_id:68d8643f4ea9e3215d466b4460b1747a\n",
      "07-26 16:34:27 I hypergbm.hyper_gbm.py 310 - oof_scores:[{'recall': 0.21311475409836064}, {'recall': 0.22826086956521738}, {'recall': 0.2608695652173913}]\n",
      "07-26 16:34:27 I hypernets.d.in_process_dispatcher.py 76 - Trial 1 done, reward: 0.23411978221415608, best_trial_no:1, best_reward:0.23411978221415608\n",
      "\n",
      "07-26 16:34:38 I hypergbm.hyper_gbm.py 310 - oof_scores:[{'recall': 0.5081967213114754}, {'recall': 0.5543478260869565}, {'recall': 0.532608695652174}]\n",
      "07-26 16:34:38 I hypernets.d.in_process_dispatcher.py 76 - Trial 2 done, reward: 0.5317604355716878, best_trial_no:2, best_reward:0.5317604355716878\n",
      "\n",
      "07-26 16:34:44 I hypergbm.hyper_gbm.py 310 - oof_scores:[{'recall': 0.48633879781420764}, {'recall': 0.5108695652173914}, {'recall': 0.45108695652173914}]\n",
      "07-26 16:34:44 I hypernets.d.in_process_dispatcher.py 76 - Trial 3 done, reward: 0.4827586206896552, best_trial_no:2, best_reward:0.5317604355716878\n",
      "\n",
      "07-26 16:34:53 I hypergbm.hyper_gbm.py 310 - oof_scores:[{'recall': 0.5956284153005464}, {'recall': 0.717391304347826}, {'recall': 0.6793478260869565}]\n",
      "07-26 16:34:54 I hypernets.d.in_process_dispatcher.py 76 - Trial 4 done, reward: 0.6642468239564429, best_trial_no:4, best_reward:0.6642468239564429\n",
      "\n",
      "07-26 16:34:59 I hypergbm.hyper_gbm.py 310 - oof_scores:[{'recall': 0.45901639344262296}, {'recall': 0.5380434782608695}, {'recall': 0.5108695652173914}]\n",
      "07-26 16:34:59 I hypernets.d.in_process_dispatcher.py 76 - Trial 5 done, reward: 0.5027223230490018, best_trial_no:4, best_reward:0.6642468239564429\n",
      "\n",
      "07-26 16:35:10 I hypergbm.hyper_gbm.py 310 - oof_scores:[{'recall': 0.6229508196721312}, {'recall': 0.6521739130434783}, {'recall': 0.592391304347826}]\n",
      "07-26 16:35:10 I hypernets.d.in_process_dispatcher.py 76 - Trial 6 done, reward: 0.6225045372050817, best_trial_no:4, best_reward:0.6642468239564429\n",
      "\n",
      "07-26 16:35:20 I hypergbm.hyper_gbm.py 310 - oof_scores:[{'recall': 0.5846994535519126}, {'recall': 0.5869565217391305}, {'recall': 0.4945652173913043}]\n",
      "07-26 16:35:20 I hypernets.d.in_process_dispatcher.py 76 - Trial 7 done, reward: 0.5553539019963702, best_trial_no:4, best_reward:0.6642468239564429\n",
      "\n",
      "07-26 16:35:34 I hypergbm.hyper_gbm.py 310 - oof_scores:[{'recall': 0.2677595628415301}, {'recall': 0.3423913043478261}, {'recall': 0.23369565217391305}]\n",
      "07-26 16:35:34 I hypernets.d.in_process_dispatcher.py 76 - Trial 8 done, reward: 0.2813067150635209, best_trial_no:4, best_reward:0.6642468239564429\n",
      "\n",
      "07-26 16:35:46 I hypergbm.hyper_gbm.py 310 - oof_scores:[{'recall': 0.4262295081967213}, {'recall': 0.375}, {'recall': 0.44565217391304346}]\n",
      "07-26 16:35:46 I hypernets.d.in_process_dispatcher.py 76 - Trial 9 done, reward: 0.41560798548094374, best_trial_no:4, best_reward:0.6642468239564429\n",
      "\n",
      "07-26 16:36:08 I hypergbm.hyper_gbm.py 310 - oof_scores:[{'recall': 0.7158469945355191}, {'recall': 0.7228260869565217}, {'recall': 0.7608695652173914}]\n",
      "07-26 16:36:09 I hypernets.d.in_process_dispatcher.py 76 - Trial 10 done, reward: 0.7332123411978222, best_trial_no:10, best_reward:0.7332123411978222\n",
      "\n",
      "07-26 16:36:09 I hypernets.e.compete.py 764 - space_searching best_reward: 0.7332123411978222\n",
      "07-26 16:36:09 I hypernets.e.compete.py 1263 - fit_transform final_ensemble with columns: ['Block', 'Latitude', 'Longitude', 'Latitude1', 'Longitude1', 'AddressAccuracy', 'NumMosquitos', 'Address', 'Species', 'Street', 'Trap', 'AddressNumberAndStreet', 'GEOHASH__latlong1__', 'GEOHASH__latlong2__', 'HAVERSINE__latlong1____latlong2____unit__kilometers__']\n",
      "07-26 16:36:09 I hypernets.e.compete.py 1006 - ensemble with oofs\n",
      "07-26 16:36:10 I hypernets.e.compete.py 966 - built estimator: GreedyEnsemble(weight=[0.2 0.8 0.  0.  0.  0.  0.  0.  0.  0. ], scores=[0.7332123411978222, 0.7459165154264973, 0.7459165154264973, 0.7495462794918331, 0.7513611615245009, 0.7513611615245009, 0.7513611615245009, 0.7495462794918331, 0.7495462794918331, 0.7513611615245009, 0.7513611615245009, 0.7513611615245009, 0.7495462794918331, 0.7513611615245009, 0.7513611615245009, 0.7513611615245009, 0.7513611615245009, 0.7513611615245009, 0.7513611615245009, 0.7513611615245009])\n",
      "07-26 16:36:10 I hypernets.e.compete.py 1335 - trained experiment pipeline: ['data_clean', 'feature_generation', 'estimator']\n",
      "07-26 16:36:10 I hypernets.t.data_cleaner.py 326 - drop columns: ['Unnamed: 0']\n",
      "07-26 16:36:10 I hypernets.e.compete.py 437 - feature_generation transform\n"
     ]
    },
    {
     "data": {
      "text/plain": [
       "0.8020833333333334"
      ]
     },
     "execution_count": 12,
     "metadata": {},
     "output_type": "execute_result"
    }
   ],
   "source": [
    "experiment = make_experiment(train_data.copy(),eval_data=test_data.copy(),test_data=test_data.copy(),target='WnvPresent',\n",
    "                             random_state=8888,max_trials=10,reward_metric='recall',class_balancing='RandomUnderSampling',\n",
    "                             feature_generation=True,\n",
    "                             feature_generation_text_cols=['latlong1', 'latlong2'],\n",
    "                             drift_detection=False,\n",
    "                             pos_label=1,\n",
    "                             log_level='info',\n",
    "                            )\n",
    "estimator = experiment.run()\n",
    "scorer = get_scorer(metric_to_scoring('recall',pos_label=1))\n",
    "score = scorer(estimator, X_test, y_test)\n",
    "score"
   ]
  },
  {
   "cell_type": "code",
   "execution_count": null,
   "id": "93b59352",
   "metadata": {},
   "outputs": [],
   "source": []
  }
 ],
 "metadata": {
  "kernelspec": {
   "display_name": "Python [conda env:ziqian] *",
   "language": "python",
   "name": "conda-env-ziqian-py"
  },
  "language_info": {
   "codemirror_mode": {
    "name": "ipython",
    "version": 3
   },
   "file_extension": ".py",
   "mimetype": "text/x-python",
   "name": "python",
   "nbconvert_exporter": "python",
   "pygments_lexer": "ipython3",
   "version": "3.6.13"
  }
 },
 "nbformat": 4,
 "nbformat_minor": 5
}
