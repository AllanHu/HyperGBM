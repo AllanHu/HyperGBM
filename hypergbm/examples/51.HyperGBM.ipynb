{
 "cells": [
  {
   "cell_type": "markdown",
   "id": "50ed32de",
   "metadata": {},
   "source": [
    "## Prepare train_data and test_data"
   ]
  },
  {
   "cell_type": "code",
   "execution_count": 1,
   "id": "b3b0c7d4",
   "metadata": {
    "scrolled": true
   },
   "outputs": [],
   "source": [
    "import pandas as pd\n",
    "from sklearn import datasets\n",
    "from sklearn.model_selection import train_test_split\n",
    "import warnings\n",
    "warnings.filterwarnings(\"ignore\")"
   ]
  },
  {
   "cell_type": "code",
   "execution_count": 2,
   "id": "913bfc32",
   "metadata": {},
   "outputs": [],
   "source": [
    "X,y = datasets.load_breast_cancer(as_frame=True,return_X_y=True)\n",
    "X_train,X_test,y_train,y_test = train_test_split(X,y,train_size=0.7,random_state=335)\n",
    "train_data = pd.concat([X_train,y_train],axis=1)\n",
    "eval_data = pd.concat([X_test,y_test],axis=1)"
   ]
  },
  {
   "cell_type": "markdown",
   "id": "eb913df0",
   "metadata": {
    "scrolled": true
   },
   "source": [
    "# Use HyperGBM to train model"
   ]
  },
  {
   "cell_type": "code",
   "execution_count": 3,
   "id": "83c39212",
   "metadata": {
    "scrolled": true
   },
   "outputs": [
    {
     "name": "stdout",
     "output_type": "stream",
     "text": [
      "07-21 15:58:19 I hypernets.u._fsutils.py 300 - use /home/wumy/tmp/workdir as working directory.\n"
     ]
    }
   ],
   "source": [
    "from hypergbm import HyperGBM\n",
    "from hypergbm.search_space import search_space_general\n",
    "from hypernets.searchers.random_searcher import RandomSearcher"
   ]
  },
  {
   "cell_type": "code",
   "execution_count": 4,
   "id": "a5b0481f",
   "metadata": {},
   "outputs": [
    {
     "name": "stdout",
     "output_type": "stream",
     "text": [
      "07-21 15:58:20 I hypernets.c.meta_learner.py 22 - Initialize Meta Learner: dataset_id:ab373b8b2ef606325314215dd3595e3d\n"
     ]
    },
    {
     "name": "stderr",
     "output_type": "stream",
     "text": [
      "                                             "
     ]
    },
    {
     "name": "stdout",
     "output_type": "stream",
     "text": [
      "07-21 15:58:29 I hypergbm.hyper_gbm.py 276 - oof_scores:[{'accuracy': 0.9849624060150376}, {'accuracy': 0.9548872180451128}, {'accuracy': 0.9545454545454546}]\n",
      "07-21 15:58:29 I hypernets.d.in_process_dispatcher.py 77 - Trial 1 done, reward: 0.964824120603015, best_trial_no:1, best_reward:0.964824120603015\n",
      "\n"
     ]
    },
    {
     "name": "stderr",
     "output_type": "stream",
     "text": [
      "                                             "
     ]
    },
    {
     "name": "stdout",
     "output_type": "stream",
     "text": [
      "07-21 15:58:30 I hypergbm.hyper_gbm.py 276 - oof_scores:[{'accuracy': 0.9624060150375939}, {'accuracy': 0.9323308270676691}, {'accuracy': 0.946969696969697}]\n",
      "07-21 15:58:30 I hypernets.d.in_process_dispatcher.py 77 - Trial 2 done, reward: 0.9472361809045227, best_trial_no:1, best_reward:0.964824120603015\n",
      "\n"
     ]
    },
    {
     "name": "stderr",
     "output_type": "stream",
     "text": [
      "                                             "
     ]
    },
    {
     "name": "stdout",
     "output_type": "stream",
     "text": [
      "07-21 15:58:31 I hypergbm.hyper_gbm.py 276 - oof_scores:[{'accuracy': 0.9699248120300752}, {'accuracy': 0.924812030075188}, {'accuracy': 0.9318181818181818}]\n",
      "07-21 15:58:31 I hypernets.d.in_process_dispatcher.py 77 - Trial 3 done, reward: 0.9422110552763819, best_trial_no:1, best_reward:0.964824120603015\n",
      "\n"
     ]
    },
    {
     "name": "stderr",
     "output_type": "stream",
     "text": [
      "                                             "
     ]
    },
    {
     "name": "stdout",
     "output_type": "stream",
     "text": [
      "07-21 15:58:32 I hypergbm.hyper_gbm.py 276 - oof_scores:[{'accuracy': 0.9624060150375939}, {'accuracy': 0.9323308270676691}, {'accuracy': 0.9242424242424242}]\n",
      "07-21 15:58:32 I hypernets.d.in_process_dispatcher.py 77 - Trial 4 done, reward: 0.9396984924623115, best_trial_no:1, best_reward:0.964824120603015\n",
      "\n"
     ]
    },
    {
     "name": "stderr",
     "output_type": "stream",
     "text": [
      "                                             "
     ]
    },
    {
     "name": "stdout",
     "output_type": "stream",
     "text": [
      "07-21 15:58:33 I hypergbm.hyper_gbm.py 276 - oof_scores:[{'accuracy': 0.9548872180451128}, {'accuracy': 0.9624060150375939}, {'accuracy': 0.9393939393939394}]\n",
      "07-21 15:58:33 I hypernets.d.in_process_dispatcher.py 77 - Trial 5 done, reward: 0.9522613065326633, best_trial_no:1, best_reward:0.964824120603015\n",
      "\n"
     ]
    },
    {
     "name": "stderr",
     "output_type": "stream",
     "text": [
      "                                             "
     ]
    },
    {
     "name": "stdout",
     "output_type": "stream",
     "text": [
      "07-21 15:58:34 I hypergbm.hyper_gbm.py 276 - oof_scores:[{'accuracy': 0.9924812030075187}, {'accuracy': 0.9548872180451128}, {'accuracy': 0.9621212121212122}]\n",
      "07-21 15:58:34 I hypernets.d.in_process_dispatcher.py 77 - Trial 6 done, reward: 0.9698492462311558, best_trial_no:6, best_reward:0.9698492462311558\n",
      "\n"
     ]
    },
    {
     "name": "stderr",
     "output_type": "stream",
     "text": [
      "                                             "
     ]
    },
    {
     "name": "stdout",
     "output_type": "stream",
     "text": [
      "07-21 15:58:35 I hypergbm.hyper_gbm.py 276 - oof_scores:[{'accuracy': 0.9097744360902256}, {'accuracy': 0.924812030075188}, {'accuracy': 0.9166666666666666}]\n"
     ]
    },
    {
     "name": "stderr",
     "output_type": "stream",
     "text": [
      "\r"
     ]
    },
    {
     "name": "stdout",
     "output_type": "stream",
     "text": [
      "07-21 15:58:35 I hypernets.d.in_process_dispatcher.py 77 - Trial 7 done, reward: 0.9170854271356784, best_trial_no:6, best_reward:0.9698492462311558\n",
      "\n"
     ]
    },
    {
     "name": "stderr",
     "output_type": "stream",
     "text": [
      "                                             "
     ]
    },
    {
     "name": "stdout",
     "output_type": "stream",
     "text": [
      "07-21 15:58:37 I hypergbm.hyper_gbm.py 276 - oof_scores:[{'accuracy': 0.9774436090225563}, {'accuracy': 0.9548872180451128}, {'accuracy': 0.9621212121212122}]\n",
      "07-21 15:58:37 I hypernets.d.in_process_dispatcher.py 77 - Trial 8 done, reward: 0.964824120603015, best_trial_no:6, best_reward:0.9698492462311558\n",
      "\n"
     ]
    },
    {
     "name": "stderr",
     "output_type": "stream",
     "text": [
      "                                             "
     ]
    },
    {
     "name": "stdout",
     "output_type": "stream",
     "text": [
      "07-21 15:58:37 I hypergbm.hyper_gbm.py 276 - oof_scores:[{'accuracy': 0.9548872180451128}, {'accuracy': 0.9323308270676691}, {'accuracy': 0.9545454545454546}]\n",
      "07-21 15:58:37 I hypernets.d.in_process_dispatcher.py 77 - Trial 9 done, reward: 0.9472361809045227, best_trial_no:6, best_reward:0.9698492462311558\n",
      "\n"
     ]
    },
    {
     "name": "stderr",
     "output_type": "stream",
     "text": [
      "                                             "
     ]
    },
    {
     "name": "stdout",
     "output_type": "stream",
     "text": [
      "07-21 15:58:38 I hypergbm.hyper_gbm.py 276 - oof_scores:[{'accuracy': 0.9624060150375939}, {'accuracy': 0.9323308270676691}, {'accuracy': 0.9393939393939394}]\n",
      "07-21 15:58:38 I hypernets.d.in_process_dispatcher.py 77 - Trial 10 done, reward: 0.9447236180904522, best_trial_no:6, best_reward:0.9698492462311558\n",
      "\n"
     ]
    },
    {
     "name": "stderr",
     "output_type": "stream",
     "text": [
      "                                             "
     ]
    },
    {
     "name": "stdout",
     "output_type": "stream",
     "text": [
      "07-21 15:58:39 I hypergbm.hyper_gbm.py 276 - oof_scores:[{'accuracy': 0.9097744360902256}, {'accuracy': 0.8872180451127819}, {'accuracy': 0.8939393939393939}]\n",
      "07-21 15:58:39 I hypernets.d.in_process_dispatcher.py 77 - Trial 11 done, reward: 0.8969849246231156, best_trial_no:6, best_reward:0.9698492462311558\n",
      "\n"
     ]
    },
    {
     "name": "stderr",
     "output_type": "stream",
     "text": [
      "                                             "
     ]
    },
    {
     "name": "stdout",
     "output_type": "stream",
     "text": [
      "07-21 15:58:39 I hypergbm.hyper_gbm.py 276 - oof_scores:[{'accuracy': 0.9624060150375939}, {'accuracy': 0.9398496240601504}, {'accuracy': 0.9545454545454546}]\n",
      "07-21 15:58:39 I hypernets.d.in_process_dispatcher.py 77 - Trial 12 done, reward: 0.9522613065326633, best_trial_no:6, best_reward:0.9698492462311558\n",
      "\n"
     ]
    },
    {
     "name": "stderr",
     "output_type": "stream",
     "text": [
      "                                             "
     ]
    },
    {
     "name": "stdout",
     "output_type": "stream",
     "text": [
      "07-21 15:58:40 I hypergbm.hyper_gbm.py 276 - oof_scores:[{'accuracy': 0.6165413533834586}, {'accuracy': 0.6090225563909775}, {'accuracy': 0.6136363636363636}]\n",
      "07-21 15:58:40 I hypernets.d.in_process_dispatcher.py 77 - Trial 13 done, reward: 0.6130653266331658, best_trial_no:6, best_reward:0.9698492462311558\n",
      "\n"
     ]
    },
    {
     "name": "stderr",
     "output_type": "stream",
     "text": [
      "                                             "
     ]
    },
    {
     "name": "stdout",
     "output_type": "stream",
     "text": [
      "07-21 15:58:40 I hypergbm.hyper_gbm.py 276 - oof_scores:[{'accuracy': 0.9699248120300752}, {'accuracy': 0.924812030075188}, {'accuracy': 0.9545454545454546}]\n",
      "07-21 15:58:40 I hypernets.d.in_process_dispatcher.py 77 - Trial 14 done, reward: 0.949748743718593, best_trial_no:6, best_reward:0.9698492462311558\n",
      "\n"
     ]
    },
    {
     "name": "stderr",
     "output_type": "stream",
     "text": [
      "                                     "
     ]
    },
    {
     "name": "stdout",
     "output_type": "stream",
     "text": [
      "07-21 15:58:40 I hypergbm.hyper_gbm.py 276 - oof_scores:[{'accuracy': 0.9624060150375939}, {'accuracy': 0.9473684210526315}, {'accuracy': 0.9242424242424242}]\n",
      "07-21 15:58:40 I hypernets.d.in_process_dispatcher.py 77 - Trial 15 done, reward: 0.9447236180904522, best_trial_no:6, best_reward:0.9698492462311558\n",
      "\n"
     ]
    },
    {
     "name": "stderr",
     "output_type": "stream",
     "text": [
      "                                     "
     ]
    },
    {
     "name": "stdout",
     "output_type": "stream",
     "text": [
      "07-21 15:58:40 I hypergbm.hyper_gbm.py 276 - oof_scores:[{'accuracy': 0.9699248120300752}, {'accuracy': 0.924812030075188}, {'accuracy': 0.9696969696969697}]\n",
      "07-21 15:58:40 I hypernets.d.in_process_dispatcher.py 77 - Trial 16 done, reward: 0.9547738693467337, best_trial_no:6, best_reward:0.9698492462311558\n",
      "\n"
     ]
    },
    {
     "name": "stderr",
     "output_type": "stream",
     "text": [
      "                                             "
     ]
    },
    {
     "name": "stdout",
     "output_type": "stream",
     "text": [
      "07-21 15:58:41 I hypergbm.hyper_gbm.py 276 - oof_scores:[{'accuracy': 0.38345864661654133}, {'accuracy': 0.39097744360902253}, {'accuracy': 0.38636363636363635}]\n",
      "07-21 15:58:41 I hypernets.d.in_process_dispatcher.py 77 - Trial 17 done, reward: 0.3869346733668342, best_trial_no:6, best_reward:0.9698492462311558\n",
      "\n"
     ]
    },
    {
     "name": "stderr",
     "output_type": "stream",
     "text": [
      "                                             "
     ]
    },
    {
     "name": "stdout",
     "output_type": "stream",
     "text": [
      "07-21 15:58:41 I hypergbm.hyper_gbm.py 276 - oof_scores:[{'accuracy': 0.9097744360902256}, {'accuracy': 0.924812030075188}, {'accuracy': 0.9166666666666666}]\n",
      "07-21 15:58:41 I hypernets.d.in_process_dispatcher.py 77 - Trial 18 done, reward: 0.9170854271356784, best_trial_no:6, best_reward:0.9698492462311558\n",
      "\n"
     ]
    },
    {
     "name": "stderr",
     "output_type": "stream",
     "text": [
      "                                             "
     ]
    },
    {
     "name": "stdout",
     "output_type": "stream",
     "text": [
      "07-21 15:58:42 I hypergbm.hyper_gbm.py 276 - oof_scores:[{'accuracy': 0.9624060150375939}, {'accuracy': 0.9323308270676691}, {'accuracy': 0.9242424242424242}]\n",
      "07-21 15:58:42 I hypernets.d.in_process_dispatcher.py 77 - Trial 19 done, reward: 0.9396984924623115, best_trial_no:6, best_reward:0.9698492462311558\n",
      "\n"
     ]
    },
    {
     "name": "stderr",
     "output_type": "stream",
     "text": [
      "                                             "
     ]
    },
    {
     "name": "stdout",
     "output_type": "stream",
     "text": [
      "07-21 15:58:43 I hypergbm.hyper_gbm.py 276 - oof_scores:[{'accuracy': 0.9548872180451128}, {'accuracy': 0.9323308270676691}, {'accuracy': 0.9242424242424242}]\n",
      "07-21 15:58:43 I hypernets.d.in_process_dispatcher.py 77 - Trial 20 done, reward: 0.9371859296482412, best_trial_no:6, best_reward:0.9698492462311558\n",
      "\n"
     ]
    },
    {
     "name": "stderr",
     "output_type": "stream",
     "text": [
      "\r"
     ]
    }
   ],
   "source": [
    "# instantiate related objects\n",
    "searcher = RandomSearcher(search_space_general, optimize_direction='max')\n",
    "hypergbm = HyperGBM(searcher, task='binary', reward_metric='accuracy')\n",
    "# search\n",
    "hypergbm.search(X_train, y_train, X_eval=None, y_eval=None,cv=True, max_trials=20)"
   ]
  },
  {
   "cell_type": "code",
   "execution_count": 5,
   "id": "081f5df8",
   "metadata": {},
   "outputs": [
    {
     "data": {
      "text/html": [
       "<div><h>Trial:</h><table border=\"1\" class=\"dataframe\">\n",
       "<thead>\n",
       "<tr style=\"text-align: right;\">\n",
       "  <th>key</th>\n",
       "  <th>value</th>\n",
       "</tr>\n",
       "</thead>\n",
       "<tbody><tr>\n",
       "  <td>Trial No.</td>\n",
       "  <td>6</td>\n",
       "</tr>\n",
       "<tr>\n",
       "  <td>Reward</td>\n",
       "  <td>0.9698492462311558</td>\n",
       "</tr>\n",
       "<tr>\n",
       "  <td>Elapsed</td>\n",
       "  <td>0.9900736808776855</td>\n",
       "</tr>\n",
       "<tr>\n",
       "  <td>space.signature</td>\n",
       "  <td>697999d4a44fd6f9b39f160ab5ad2fd2</td>\n",
       "</tr>\n",
       "<tr>\n",
       "  <td>space.vectors</td>\n",
       "  <td>[2, 2, 1, 3, 1, 1, 2]</td>\n",
       "</tr><tr>\n",
       "  <td>0-estimator_options.hp_or</td>\n",
       "  <td>2</td>\n",
       "</tr>\n",
       "<tr><tr>\n",
       "  <td>1-numeric_imputer_0.strategy</td>\n",
       "  <td>constant</td>\n",
       "</tr>\n",
       "<tr><tr>\n",
       "  <td>2-numeric_scaler_optional_0.hp_opt</td>\n",
       "  <td>True</td>\n",
       "</tr>\n",
       "<tr><tr>\n",
       "  <td>3-Module_CatBoostEstimator_1.learning_rate</td>\n",
       "  <td>0.1</td>\n",
       "</tr>\n",
       "<tr><tr>\n",
       "  <td>4-Module_CatBoostEstimator_1.depth</td>\n",
       "  <td>5</td>\n",
       "</tr>\n",
       "<tr><tr>\n",
       "  <td>5-Module_CatBoostEstimator_1.l2_leaf_reg</td>\n",
       "  <td>2</td>\n",
       "</tr>\n",
       "<tr><tr>\n",
       "  <td>6-numeric_or_scaler_0.hp_or</td>\n",
       "  <td>2</td>\n",
       "</tr>\n",
       "<tr>  </tbody>\n",
       "</table>\n",
       "</div>"
      ],
      "text/plain": [
       "Trial(space_sample=DAG_HyperSpace_1, trial_no=6, reward=0.9698492462311558, elapsed=0.9900736808776855, model_file='experiment_20210721155820/models/00006_72355abe-e9f9-11eb-aa32-246e96569c4c.pkl')"
      ]
     },
     "execution_count": 5,
     "metadata": {},
     "output_type": "execute_result"
    }
   ],
   "source": [
    "# load best model\n",
    "best_trial = hypergbm.get_best_trial()\n",
    "estimator = hypergbm.load_estimator(best_trial.model_file)\n",
    "best_trial"
   ]
  },
  {
   "cell_type": "code",
   "execution_count": 6,
   "id": "d8c2677e",
   "metadata": {},
   "outputs": [
    {
     "data": {
      "text/plain": [
       "{'auc': 0.9853524565151053,\n",
       " 'accuracy': 0.9707602339181286,\n",
       " 'f1': 0.9781659388646289,\n",
       " 'recall': 0.9911504424778761,\n",
       " 'precision': 0.9655172413793104}"
      ]
     },
     "execution_count": 6,
     "metadata": {},
     "output_type": "execute_result"
    }
   ],
   "source": [
    "# Scoring\n",
    "from hypernets.tabular.metrics import calc_score\n",
    "preds=estimator.predict(X_test)\n",
    "proba=estimator.predict_proba(X_test)\n",
    "scores = calc_score(y_test,preds,proba,task='binary', metrics=['auc','accuracy','f1','recall','precision'] )\n",
    "scores"
   ]
  },
  {
   "cell_type": "code",
   "execution_count": null,
   "id": "4206f612",
   "metadata": {},
   "outputs": [],
   "source": []
  }
 ],
 "metadata": {
  "kernelspec": {
   "display_name": "Python 3",
   "language": "python",
   "name": "python3"
  },
  "language_info": {
   "codemirror_mode": {
    "name": "ipython",
    "version": 3
   },
   "file_extension": ".py",
   "mimetype": "text/x-python",
   "name": "python",
   "nbconvert_exporter": "python",
   "pygments_lexer": "ipython3",
   "version": "3.6.13"
  }
 },
 "nbformat": 4,
 "nbformat_minor": 5
}
